{
 "metadata": {
  "name": ""
 },
 "nbformat": 3,
 "nbformat_minor": 0,
 "worksheets": [
  {
   "cells": [
    {
     "cell_type": "markdown",
     "metadata": {},
     "source": [
      "## Day 4: Functions and Input/Output practicals\n",
      "\n",
      "Let's start by importing from the **data** module:"
     ]
    },
    {
     "cell_type": "code",
     "collapsed": true,
     "input": [
      "from data import blast_out,human_sequence,IUPAC_codes"
     ],
     "language": "python",
     "metadata": {},
     "outputs": [],
     "prompt_number": 1
    },
    {
     "cell_type": "markdown",
     "metadata": {},
     "source": [
      "### Problem 1:\n",
      "\n",
      "The ***human\\_sequence*** variable imported from the **data** module is a cDNA sequence string resembling a typical aligned sequence, with gaps spread\n",
      "throughout. \n",
      "\n",
      "a) Define a function capable of taking any sequence string as input, and that prints a new sequence without gaps. The function must be able to\n",
      "take the gap symbol as an argument (e.g., \"-\" or \"?\", etc)"
     ]
    },
    {
     "cell_type": "code",
     "collapsed": true,
     "input": [],
     "language": "python",
     "metadata": {},
     "outputs": [],
     "prompt_number": 3
    },
    {
     "cell_type": "markdown",
     "metadata": {},
     "source": [
      "b) Define a function similar to the one created for a), but capable of printing a new sequence without gaps entirely OR without gaps only at the \n",
      "3' and 5' extremities of the sequence. \n",
      "\n",
      "###Tips:\n",
      "\n",
      "- You can use a boolean-like variable as an argument of the function, e.g. \"zero_gaps = True\" for when you want the function to remove gaps from both ends, and \"zero_gaps =\n",
      "Right/Left\" when, you want to remove them from only one side)."
     ]
    },
    {
     "cell_type": "code",
     "collapsed": true,
     "input": [],
     "language": "python",
     "metadata": {},
     "outputs": []
    },
    {
     "cell_type": "markdown",
     "metadata": {},
     "source": [
      "c) Define a function capable of finding any motif in a sequence, and returning a tuple with the starting and ending positions of its first \n",
      "appearance. If the motif does not exist, print an error message.  Find the following motifs in the ***human\\_sequence*** variable:\n",
      "\n",
      "- \"GGGTTCACTT\"\n",
      "- \"GATCA\"\n",
      "- \"AACAT\"\n",
      "- \"GGTGTGGGGGG\"\n",
      "\n",
      "###Tips:\n",
      "- The function can be defined with two arguments: One for the sequence, and another for the motif\n"
     ]
    },
    {
     "cell_type": "code",
     "collapsed": true,
     "input": [],
     "language": "python",
     "metadata": {},
     "outputs": []
    },
    {
     "cell_type": "markdown",
     "metadata": {},
     "source": [
      "d) Modify the function created in c), so that it can take a variable number of motifs as arguments and return a dictionary with the motifs as *keys*\n",
      "and the tuple with the positions as *values*.\n",
      "\n",
      "(This is a tough one)"
     ]
    },
    {
     "cell_type": "code",
     "collapsed": true,
     "input": [],
     "language": "python",
     "metadata": {},
     "outputs": []
    },
    {
     "cell_type": "markdown",
     "metadata": {},
     "source": [
      "### Problem 2\n",
      "\n",
      "The list blast_out from the examples module contains a short table of blast results in a simplified tabular format with the following fields per hit:\n",
      "\n",
      "***query sequence*** \\t ***subject sequence*** \\t ***identification percentage***  \\t ***e-value***\n",
      "\n",
      "a) Define a function that returns a list containing only the blast hits with an e-value below $1 \\times 10^{-5}$. This e-value cut-off \n",
      "should be the default, but the function must be flexible enough to be called with different cut-off values.\n",
      "\n",
      "\n",
      "###Tips:\n",
      "- Python is able to recognize and interpret numbers in scientific notation when converted with float(), e.g. float(1e-7);\n"
     ]
    },
    {
     "cell_type": "code",
     "collapsed": true,
     "input": [],
     "language": "python",
     "metadata": {},
     "outputs": []
    },
    {
     "cell_type": "markdown",
     "metadata": {},
     "source": [
      "b) Based on the list returned by the function in a), define a function that sorts the blast hits according to their identification percentage\n",
      "into three lists of high (100-90%), moderate (90-60%) and low (below 60%) identity percentage. Return those lists as separate variables and\n",
      "calculate the number of hits in each identity percentage class.\n",
      "\n",
      "### Tips:\n",
      "- Remember that functions can return multiple values (separated by commas)"
     ]
    },
    {
     "cell_type": "code",
     "collapsed": true,
     "input": [],
     "language": "python",
     "metadata": {},
     "outputs": []
    },
    {
     "cell_type": "markdown",
     "metadata": {},
     "source": [
      "c) Modify the function in a) so that it can take a file object as an argument, instead of a list."
     ]
    },
    {
     "cell_type": "code",
     "collapsed": true,
     "input": [],
     "language": "python",
     "metadata": {},
     "outputs": []
    },
    {
     "cell_type": "markdown",
     "metadata": {},
     "source": [
      "c) Open the \"blast_out.txt\" file in read mode and use the previous function to return a list of blast hits with e-values below \n",
      "$1 \\times 10^{-15}$. "
     ]
    },
    {
     "cell_type": "code",
     "collapsed": true,
     "input": [],
     "language": "python",
     "metadata": {},
     "outputs": []
    },
    {
     "cell_type": "markdown",
     "metadata": {},
     "source": [
      "d) Create a script that includes the function defined in a). When executed through the terminal, the script should prompt the user for:\n",
      "\n",
      "- the path and filename of the blast output file that is going to be read\n",
      "- the desired e-value cutoff\n",
      "- the name of the output filename\n",
      "\n",
      "The script must open and read the provided input file, and write all blast hits above the desired e-value cutoff to a new file with the \n",
      "name provided by the user.\n",
      "\n",
      "### Tips:\n",
      "- Use the raw_input() and input() functions to collect information from the user/keyboard - Their values can be stored in variables to be used latter;"
     ]
    },
    {
     "cell_type": "code",
     "collapsed": true,
     "input": [],
     "language": "python",
     "metadata": {},
     "outputs": []
    },
    {
     "cell_type": "markdown",
     "metadata": {},
     "source": [
      "### Problem 3:\n",
      "\n",
      "Use python to open the \"My_fasta.fas\" file in read mode. \n",
      "\n",
      "a) Define a function that returns a dictionary with the fasta headers as *keys* and their sequence as the corresponding *value*.\n",
      "\n",
      "### Tips:\n",
      "- For this exercise, we ran out of tips. Sorry. "
     ]
    },
    {
     "cell_type": "code",
     "collapsed": true,
     "input": [],
     "language": "python",
     "metadata": {},
     "outputs": []
    },
    {
     "cell_type": "markdown",
     "metadata": {},
     "source": [
      "b) Define a function that performs some quality checks for each sequence. Check if:\n",
      "\n",
      "- all sequences are of the same size. If not, the function should print a message informing which taxa have sequences of different length.\n",
      "- there are no illegal characters in each sequence. If there are, the function should print a message informing which taxon's sequence has problems\n",
      "and what is the illegal character. Use the *IUPAC\\_codes* list from the *data* module to check for illegal characters."
     ]
    },
    {
     "cell_type": "code",
     "collapsed": true,
     "input": [],
     "language": "python",
     "metadata": {},
     "outputs": []
    },
    {
     "cell_type": "markdown",
     "metadata": {},
     "source": [
      "c) Create a function that uses the dictionary created in a) and collapses taxa with identical sequences into the same haplotype. Write these unique\n",
      "haplotypes to a new file (My_fasta_collapsed.fas) in fasta format, and write the correspondance between haplotype and taxon name in another file\n",
      "(My_haplotype_list.txt). "
     ]
    },
    {
     "cell_type": "code",
     "collapsed": true,
     "input": [],
     "language": "python",
     "metadata": {},
     "outputs": []
    }
   ],
   "metadata": {}
  }
 ]
}