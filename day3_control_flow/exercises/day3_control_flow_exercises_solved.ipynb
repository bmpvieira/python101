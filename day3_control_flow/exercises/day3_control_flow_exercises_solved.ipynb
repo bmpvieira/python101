{
 "metadata": {
  "name": ""
 },
 "nbformat": 3,
 "nbformat_minor": 0,
 "worksheets": [
  {
   "cells": [
    {
     "cell_type": "markdown",
     "metadata": {},
     "source": [
      "## Day 3: Control flow Practicals\n",
      "\n",
      "Let's get down to business and start typing some real code. In order to solve the proposed exercises you are required to use the provided examples."
     ]
    },
    {
     "cell_type": "code",
     "collapsed": true,
     "input": [
      "from data import cytb, translations, IUPAC_codes, Species_list"
     ],
     "language": "python",
     "metadata": {},
     "outputs": [],
     "prompt_number": 1
    },
    {
     "cell_type": "markdown",
     "metadata": {},
     "source": [
      "In the imported module you will find 4 things:\n",
      "\n",
      "- a dictionary with *cytb* sequences\n",
      "\n",
      "- a dictionary with the nucleotide to AA tranaslations\n",
      "\n",
      "- a list with the IUPAC valid letters\n",
      "\n",
      "- A list of species\n",
      "\n",
      "\n",
      "Just print() any of them to see what's *inside*.\n",
      "\n",
      "Don't worry if you can't solve the *Hard* and *Very Hard* problems yet. These are based on real world problems, and are here for later, or if you think the others are too easy for you."
     ]
    },
    {
     "cell_type": "markdown",
     "metadata": {},
     "source": [
      "### Problem 1: (Easy)\n",
      "\n",
      "a) Print every species in *Species_list* in a new line."
     ]
    },
    {
     "cell_type": "code",
     "collapsed": false,
     "input": [
      "for species in Species_list:\n",
      "    print(species)"
     ],
     "language": "python",
     "metadata": {},
     "outputs": [
      {
       "output_type": "stream",
       "stream": "stdout",
       "text": [
        "H_sapiens\n",
        "M_musculus\n",
        "C_albicans\n",
        "B_bufo\n",
        "C_felix\n",
        "V_vulpes\n",
        "B_taurus\n"
       ]
      }
     ],
     "prompt_number": 2
    },
    {
     "cell_type": "markdown",
     "metadata": {},
     "source": [
      "b) Print every species in *Species_list* but if a fox is found, print \"What does the fox say?\" instead of the species name."
     ]
    },
    {
     "cell_type": "code",
     "collapsed": false,
     "input": [
      "for species in Species_list:\n",
      "    if species == \"V_vulpes\":\n",
      "        print(\"What does the fox say?\")\n",
      "    else:\n",
      "        print(species)"
     ],
     "language": "python",
     "metadata": {},
     "outputs": [
      {
       "output_type": "stream",
       "stream": "stdout",
       "text": [
        "H_sapiens\n",
        "M_musculus\n",
        "C_albicans\n",
        "B_bufo\n",
        "C_felix\n",
        "What does the fox say?\n",
        "B_taurus\n"
       ]
      }
     ],
     "prompt_number": 3
    },
    {
     "cell_type": "markdown",
     "metadata": {},
     "source": [
      "### Problem 2: (Easy)\n",
      "\n",
      "Print every sequence in cytb and the respective name so that it looks like this:\n",
      "\n",
      "```\n",
      "Seq1_name - SEQUENCE\n",
      "Seq2_name - SEQUENCE\n",
      "```"
     ]
    },
    {
     "cell_type": "code",
     "collapsed": false,
     "input": [
      "for seqs in cytb:\n",
      "    print(\"%s - %s\") % (seqs, cytb[seqs])"
     ],
     "language": "python",
     "metadata": {},
     "outputs": [],
     "prompt_number": 39
    },
    {
     "cell_type": "markdown",
     "metadata": {},
     "source": [
      "### Problem 3: (Medium)\n",
      "\n",
      "Verify that there are no illegal characters in the sequence \"Ib8\" in *cytb*. \n",
      "</br></br>\n",
      "####Tip:\n",
      "Use the *IUPAC\\_codes* list that was imported from the data module to check if the sequence's nucleotides are legal."
     ]
    },
    {
     "cell_type": "code",
     "collapsed": true,
     "input": [
      "for bases in cytb[\"Ib8\"]:\n",
      "    if bases not in IUPAC_codes:\n",
      "        print(\"Found an illegal base: %s\") % (bases)"
     ],
     "language": "python",
     "metadata": {},
     "outputs": [],
     "prompt_number": 7
    },
    {
     "cell_type": "markdown",
     "metadata": {},
     "source": [
      "### Problem 4: (Medium)\n",
      "\n",
      "Verify that there are no illegal characters in any of the sequences in *cytb*. \n",
      "</br></br>\n",
      "####Tip:\n",
      "Use a nested loop to solve this problem."
     ]
    },
    {
     "cell_type": "code",
     "collapsed": false,
     "input": [
      "for cytb_seqs in cytb:\n",
      "    for bases in cytb[cytb_seqs]:\n",
      "        if bases not in IUPAC_codes:\n",
      "            print(\"Found an illegal base: %s in sequence %s\") % (bases, cytb_seqs)"
     ],
     "language": "python",
     "metadata": {},
     "outputs": [],
     "prompt_number": 10
    },
    {
     "cell_type": "markdown",
     "metadata": {},
     "source": [
      "### Problem 5: (Medium)\n",
      "Reverse and complement the sequence \"Ib8\" in *cytb*.\n",
      "</br></br>\n",
      "####Tips: \n",
      "Use slicing to reverse the sequence.</br>\n",
      "You can either use replace() or maketrans() to \"complement\" the sequence."
     ]
    },
    {
     "cell_type": "code",
     "collapsed": true,
     "input": [
      "Ib8_rev = cytb[\"Ib8\"][::-1].upper()\n",
      "Ib8_rev_comp = Ib8_rev.replace(\"A\",\"t\").replace(\"T\",\"a\").replace(\"C\",\"g\").replace(\"G\",\"c\").replace(\"R\",\"y\").replace(\"Y\",\"r\")\\\n",
      ".replace(\"K\",\"m\").replace(\"M\",\"k\").replace(\"B\",\"v\").replace(\"V\",\"b\").replace(\"D\",\"h\").replace(\"H\",\"d\").upper()"
     ],
     "language": "python",
     "metadata": {},
     "outputs": [],
     "prompt_number": 30
    },
    {
     "cell_type": "markdown",
     "metadata": {},
     "source": [
      "### Problem 6: (Hard - real world problem)\n",
      "Reverse and complement all the sequences in *cytb*.\n",
      "</br></br>"
     ]
    },
    {
     "cell_type": "code",
     "collapsed": false,
     "input": [
      "cytb_rev_comp = {}\n",
      "for seqs in cytb:\n",
      "    rev_seq = cytb[seqs][::-1].upper()\n",
      "    cytb_rev_comp[seqs] = rev_seq.replace(\"A\",\"t\").replace(\"T\",\"a\").replace(\"C\",\"g\").replace(\"G\",\"c\").replace(\"R\",\"y\").replace(\"Y\",\"r\")\\\n",
      "    .replace(\"K\",\"m\").replace(\"M\",\"k\").replace(\"B\",\"v\").replace(\"V\",\"b\").replace(\"D\",\"h\").replace(\"H\",\"d\").upper()\n"
     ],
     "language": "python",
     "metadata": {},
     "outputs": [],
     "prompt_number": 33
    },
    {
     "cell_type": "markdown",
     "metadata": {},
     "source": [
      "###Problem 7: (Hard)\n",
      "Translate the sequence \"Ib8\" in *cytb* from nucleotides into aminoacids.\n",
      "</br></br>\n",
      "####Tips:\n",
      "Use the translations dictionary from the data module (*translations*);</br>\n",
      "Translating the sequences into a list of aminoacids rather than a string will save you work in the next exercises."
     ]
    },
    {
     "cell_type": "code",
     "collapsed": true,
     "input": [
      "Ib8_AAs = []\n",
      "for i,j,k in zip(cytb[\"Ib8\"][::3], cytb[\"Ib8\"][1::3], cytb[\"Ib8\"][2::3]):\n",
      "    if (i+j+k) in translations:\n",
      "        Ib8_AAs.append(translations[i+j+k])\n",
      "    else:\n",
      "        Ib8_AAs.append(\"***\")"
     ],
     "language": "python",
     "metadata": {},
     "outputs": [],
     "prompt_number": 23
    },
    {
     "cell_type": "markdown",
     "metadata": {},
     "source": [
      "###Problem 8: (Very Hard - real world problem)\n",
      "Translate all the sequences in *cytb* from nucleotides into aminoacids.\n",
      "</br></br>\n",
      "####Tip:\n",
      "Use another nested loop to solve this problem just like you did for problem 2."
     ]
    },
    {
     "cell_type": "code",
     "collapsed": false,
     "input": [
      "cytb_translated = {}\n",
      "for seqs in cytb:\n",
      "    cytb_translated[seqs] = []\n",
      "    for i,j,k in zip(cytb[seqs][::3], cytb[seqs][1::3], cytb[seqs][2::3]):\n",
      "        if (i+j+k) in translations:\n",
      "            cytb_translated[seqs].append(translations[i+j+k])\n",
      "        else:\n",
      "            cytb_translated[seqs].append(\"***\")"
     ],
     "language": "python",
     "metadata": {},
     "outputs": [],
     "prompt_number": 24
    },
    {
     "cell_type": "markdown",
     "metadata": {},
     "source": [
      "### Problem 9: (Very hard - real world problem)\n",
      "Find all the equal sequences in *cytb* and \"collapse\" them into a single sequence (with the name of all the collapsed sequences)."
     ]
    },
    {
     "cell_type": "code",
     "collapsed": true,
     "input": [
      "collapsed_cytb = {}\n",
      "for names,seqs in cytb.items():\n",
      "    if seqs not in collapsed_cytb.values():\n",
      "        collapsed_cytb[names] = seqs\n",
      "    else:\n",
      "        for k,v in collapsed_cytb.items():\n",
      "            if v == seqs:\n",
      "                merged_names = k + \";\" + names\n",
      "                collapsed_cytb[merged_names] = collapsed_cytb.pop(k)\n"
     ],
     "language": "python",
     "metadata": {},
     "outputs": [],
     "prompt_number": 44
    }
   ],
   "metadata": {}
  }
 ]
}