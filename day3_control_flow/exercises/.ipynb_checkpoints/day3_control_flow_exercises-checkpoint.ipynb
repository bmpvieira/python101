{
 "metadata": {
  "name": ""
 },
 "nbformat": 3,
 "nbformat_minor": 0,
 "worksheets": [
  {
   "cells": [
    {
     "cell_type": "markdown",
     "metadata": {},
     "source": [
      "## Day 3: Control flow Practicals\n",
      "\n",
      "Let's get down to business and start typing some real code. In order to solve the proposed exercises you are required to use the provided examples."
     ]
    },
    {
     "cell_type": "code",
     "collapsed": true,
     "input": [
      "from data import cytb, translations, acidAA, IUPAC_codes"
     ],
     "language": "python",
     "metadata": {},
     "outputs": [],
     "prompt_number": 2
    },
    {
     "cell_type": "markdown",
     "metadata": {},
     "source": [
      "In this module you will find 3 things:\n",
      "\n",
      "- sequences (cytb)\n",
      "\n",
      "- translations\n",
      "\n",
      "- acid-aa\n",
      "\n",
      "- IUPAC_codes\n",
      "\n",
      "\n",
      "Just print() any one to see what's inside each of them."
     ]
    },
    {
     "cell_type": "markdown",
     "metadata": {},
     "source": [
      "### Problem 1\n",
      "\n",
      "Verify that there are no illegal characters in the sequence \"Ib8\" in *cytb*. \n",
      "</br></br>\n",
      "####Tip:\n",
      "Use the *IUPAC\\_codes* list that was imported from the data module to check if the sequence's nucleotides are legal."
     ]
    },
    {
     "cell_type": "code",
     "collapsed": true,
     "input": [],
     "language": "python",
     "metadata": {},
     "outputs": [],
     "prompt_number": 5
    },
    {
     "cell_type": "markdown",
     "metadata": {},
     "source": [
      "### Problem 2\n",
      "\n",
      "Verify that there are no illegal characters in any of the sequences in *cytb*. \n",
      "</br></br>\n",
      "####Tip:\n",
      "Use a nested loop to solve this problem."
     ]
    },
    {
     "cell_type": "code",
     "collapsed": false,
     "input": [],
     "language": "python",
     "metadata": {},
     "outputs": []
    },
    {
     "cell_type": "markdown",
     "metadata": {},
     "source": [
      "###Problem 3:\n",
      "Translate the sequence \"Ib8\" in *cytb* from nucleotides into aminoacids.\n",
      "</br></br>\n",
      "####Tips:\n",
      "Use the translations dictionary from the data module (*translations*);</br>\n",
      "Translating the sequences into a list of aminoacids rather than a string will save you work in the next exercises."
     ]
    },
    {
     "cell_type": "code",
     "collapsed": true,
     "input": [],
     "language": "python",
     "metadata": {},
     "outputs": []
    },
    {
     "cell_type": "markdown",
     "metadata": {},
     "source": [
      "###Problem 4:\n",
      "Translate all the sequences in *cytb* from nucleotides into aminoacids.\n",
      "</br></br>\n",
      "####Tip:\n",
      "Use another nested loop to solve this problem just like you did for problem 2."
     ]
    },
    {
     "cell_type": "code",
     "collapsed": false,
     "input": [],
     "language": "python",
     "metadata": {},
     "outputs": []
    },
    {
     "cell_type": "markdown",
     "metadata": {},
     "source": [
      "### Problem 5:\n",
      "Reverse and complement the sequence \"Ib8\" in *cytb*.\n",
      "</br></br>\n",
      "####Tips: \n",
      "Use slicing to reverse the sequence.</br>\n",
      "You can either use replace() or maketrans() to \"complement\" the sequence."
     ]
    },
    {
     "cell_type": "code",
     "collapsed": true,
     "input": [],
     "language": "python",
     "metadata": {},
     "outputs": []
    },
    {
     "cell_type": "markdown",
     "metadata": {},
     "source": [
      "### Problem 6:\n",
      "Reverse and complement all the sequences in *cytb*.\n",
      "</br></br>\n",
      "####Tip: \n",
      "You guessed it - use a nested loop to solve this one."
     ]
    },
    {
     "cell_type": "code",
     "collapsed": false,
     "input": [],
     "language": "python",
     "metadata": {},
     "outputs": []
    },
    {
     "cell_type": "markdown",
     "metadata": {},
     "source": [
      "###Problem 7:\n",
      "a) Find the aminoacids in *acidAA* in the sequence \"Ib8\" from *cytb*. Return the positions of both the amino acid (in the protein sequence) and the codon position (in the nucleotide sequence). \n",
      "</br></br>\n",
      "####Tips:\n",
      "Remember that an acid aminoacid may be present more than once.</br>\n",
      "Using dict like this: \"Seq_name\":[\"Phe\", \"Ser\", ...] is the easier way to do this."
     ]
    },
    {
     "cell_type": "code",
     "collapsed": true,
     "input": [],
     "language": "python",
     "metadata": {},
     "outputs": []
    },
    {
     "cell_type": "markdown",
     "metadata": {},
     "source": [
      "b) How frequent are the acid amino acids? Are they more or less frequent than what you would expect under a random distribution pattern (i.e., where every amino acid has the same probability of occurring)?"
     ]
    },
    {
     "cell_type": "code",
     "collapsed": true,
     "input": [],
     "language": "python",
     "metadata": {},
     "outputs": []
    },
    {
     "cell_type": "markdown",
     "metadata": {},
     "source": [
      "c) Return the sequence's nucleotides from the sequence \"Ib8\" in *cytb* until any of the acid amino acids from *acidAA* is found; Return \"Acid aminoacids not found\" if none of them is found in the sequence. \n",
      "</br></br>\n",
      "####Tip:\n",
      "Remember that you are looking for aminoacids, but the objective is to return the nucleotides."
     ]
    },
    {
     "cell_type": "code",
     "collapsed": true,
     "input": [],
     "language": "python",
     "metadata": {},
     "outputs": []
    },
    {
     "cell_type": "markdown",
     "metadata": {},
     "source": [
      "### Problem 8:\n",
      "Find all the equal sequences in *cytb* and \"collapse\" them into a single sequence (with the name of all the collapsed sequences)."
     ]
    },
    {
     "cell_type": "code",
     "collapsed": true,
     "input": [],
     "language": "python",
     "metadata": {},
     "outputs": []
    }
   ],
   "metadata": {}
  }
 ]
}