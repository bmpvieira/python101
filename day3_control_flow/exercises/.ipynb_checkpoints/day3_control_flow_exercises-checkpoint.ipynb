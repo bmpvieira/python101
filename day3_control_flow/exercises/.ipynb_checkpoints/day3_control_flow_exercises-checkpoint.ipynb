{
 "metadata": {
  "name": ""
 },
 "nbformat": 3,
 "nbformat_minor": 0,
 "worksheets": [
  {
   "cells": [
    {
     "cell_type": "markdown",
     "metadata": {},
     "source": [
      "## Day 3: Control flow Practicals\n",
      "\n",
      "Let's get down to business and start typing some real code. In order to solve the proposed exercises you are required to use the provided examples."
     ]
    },
    {
     "cell_type": "code",
     "collapsed": true,
     "input": [
      "from data import cytb, translations, IUPAC_codes, Species_list"
     ],
     "language": "python",
     "metadata": {},
     "outputs": [],
     "prompt_number": 35
    },
    {
     "cell_type": "markdown",
     "metadata": {},
     "source": [
      "In the imported module you will find 4 things:\n",
      "\n",
      "- a dictionary with *cytb* sequences\n",
      "\n",
      "- a dictionary with the nucleotide to AA tranaslations\n",
      "\n",
      "- a list with the IUPAC valid letters\n",
      "\n",
      "- A list of species\n",
      "\n",
      "\n",
      "Just print() any of them to see what's *inside*.\n",
      "\n",
      "Don't worry if you can't solve the *Hard* and *Very Hard* problems yet. These are based on real world problems, and are here for later, or if you think the others are too easy for you."
     ]
    },
    {
     "cell_type": "markdown",
     "metadata": {},
     "source": [
      "### Problem 1: (Easy)\n",
      "\n",
      "Print every species in Species_list in a new line."
     ]
    },
    {
     "cell_type": "code",
     "collapsed": false,
     "input": [
      "\n"
     ],
     "language": "python",
     "metadata": {},
     "outputs": []
    },
    {
     "cell_type": "markdown",
     "metadata": {},
     "source": [
      "### Problem 2: (Easy)\n",
      "\n",
      "Print every sequence in cytb and the respective name so that it looks like this:\n",
      "\n",
      "```\n",
      "Seq1_name - SEQUENCE\n",
      "Seq2_name - SEQUENCE\n",
      "```"
     ]
    },
    {
     "cell_type": "code",
     "collapsed": false,
     "input": [],
     "language": "python",
     "metadata": {},
     "outputs": []
    },
    {
     "cell_type": "markdown",
     "metadata": {},
     "source": [
      "### Problem 3: (Medium)\n",
      "\n",
      "Verify that there are no illegal characters in the sequence \"Ib8\" in *cytb*. \n",
      "</br></br>\n",
      "####Tip:\n",
      "Use the *IUPAC\\_codes* list that was imported from the data module to check if the sequence's nucleotides are legal."
     ]
    },
    {
     "cell_type": "code",
     "collapsed": true,
     "input": [],
     "language": "python",
     "metadata": {},
     "outputs": []
    },
    {
     "cell_type": "markdown",
     "metadata": {},
     "source": [
      "### Problem 4: (Medium)\n",
      "\n",
      "Verify that there are no illegal characters in any of the sequences in *cytb*. \n",
      "</br></br>\n",
      "####Tip:\n",
      "Use a nested loop to solve this problem."
     ]
    },
    {
     "cell_type": "code",
     "collapsed": false,
     "input": [],
     "language": "python",
     "metadata": {},
     "outputs": []
    },
    {
     "cell_type": "markdown",
     "metadata": {},
     "source": [
      "### Problem 5: (Medium)\n",
      "Reverse and complement the sequence \"Ib8\" in *cytb*.\n",
      "</br></br>\n",
      "####Tips: \n",
      "Use slicing to reverse the sequence.</br>\n",
      "You can either use replace() or maketrans() to \"complement\" the sequence."
     ]
    },
    {
     "cell_type": "code",
     "collapsed": true,
     "input": [],
     "language": "python",
     "metadata": {},
     "outputs": []
    },
    {
     "cell_type": "markdown",
     "metadata": {},
     "source": [
      "### Problem 6: (Hard - real world problem)\n",
      "Reverse and complement all the sequences in *cytb*.\n",
      "</br></br>\n",
      "####Tip: \n",
      "You guessed it - use a nested loop to solve this one."
     ]
    },
    {
     "cell_type": "code",
     "collapsed": false,
     "input": [],
     "language": "python",
     "metadata": {},
     "outputs": []
    },
    {
     "cell_type": "markdown",
     "metadata": {},
     "source": [
      "###Problem 7: (Hard)\n",
      "Translate the sequence \"Ib8\" in *cytb* from nucleotides into aminoacids.\n",
      "</br></br>\n",
      "####Tips:\n",
      "Use the translations dictionary from the data module (*translations*);</br>\n",
      "Translating the sequences into a list of aminoacids rather than a string will save you work in the next exercises."
     ]
    },
    {
     "cell_type": "code",
     "collapsed": true,
     "input": [],
     "language": "python",
     "metadata": {},
     "outputs": []
    },
    {
     "cell_type": "markdown",
     "metadata": {},
     "source": [
      "###Problem 8: (Very Hard - real world problem)\n",
      "Translate all the sequences in *cytb* from nucleotides into aminoacids.\n",
      "</br></br>\n",
      "####Tip:\n",
      "Use another nested loop to solve this problem just like you did for problem 2."
     ]
    },
    {
     "cell_type": "code",
     "collapsed": false,
     "input": [],
     "language": "python",
     "metadata": {},
     "outputs": []
    },
    {
     "cell_type": "markdown",
     "metadata": {},
     "source": [
      "### Problem 9: (Very hard - real world problem)\n",
      "Find all the equal sequences in *cytb* and \"collapse\" them into a single sequence (with the name of all the collapsed sequences)."
     ]
    },
    {
     "cell_type": "code",
     "collapsed": true,
     "input": [],
     "language": "python",
     "metadata": {},
     "outputs": []
    }
   ],
   "metadata": {}
  }
 ]
}