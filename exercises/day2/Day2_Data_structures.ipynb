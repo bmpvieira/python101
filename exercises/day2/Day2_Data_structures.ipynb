{
 "metadata": {
  "name": "Day 2 Data Structures"
 }, 
 "name": "Day 2 Data Structures", 
 "nbformat": 2, 
 "worksheets": [
  {
   "cells": [
    {
     "cell_type": "markdown", 
     "source": "## Day 2: Data structures\n\nLet's start by importing the **data** module"
    }, 
    {
     "cell_type": "code", 
     "collapsed": true, 
     "input": "from data import DNA_Sequence,human_sequence,Species_list,sequences", 
     "language": "python", 
     "outputs": []
    }, 
    {
     "cell_type": "markdown", 
     "source": "### Problem X\n\nThe *DNA_Sequence* variable imported from the **data** module contains DNA sequence\n\na) Print the **DNA_Sequence** variable"
    }, 
    {
     "cell_type": "code", 
     "collapsed": true, 
     "input": "", 
     "language": "python", 
     "outputs": []
    }, 
    {
     "cell_type": "markdown", 
     "source": "b) Print the length od the **DNA_sequence** variable"
    }, 
    {
     "cell_type": "code", 
     "collapsed": true, 
     "input": "", 
     "language": "python", 
     "outputs": []
    }, 
    {
     "cell_type": "markdown", 
     "source": "c) Count the number of \"A\", \"C\", \"T\", and \"G\" nucleotides in the **DNA_sequence** variable and assign each one to a different variable (e.g, assign the number of \"A\"s to a variable named a_count, etc))"
    }, 
    {
     "cell_type": "code", 
     "collapsed": true, 
     "input": "", 
     "language": "python", 
     "outputs": []
    }, 
    {
     "cell_type": "markdown", 
     "source": "d) Transcribe the **DNA_sequence** and assign it to a new variable.\n\n(Tip: replace the \"T\" nucleotides for \"U\" nucleotides)"
    }, 
    {
     "cell_type": "code", 
     "collapsed": true, 
     "input": "", 
     "language": "python", 
     "outputs": []
    }, 
    {
     "cell_type": "markdown", 
     "source": "e) Split the **DNA_sequence** at each \"TAA\" motif and store the resulting list in a new variable. Determine the numeber of the resulting fragments.\n\n(Tip: Determine the length of the resulting list of fragments to get the number of fragments)"
    }, 
    {
     "cell_type": "code", 
     "collapsed": true, 
     "input": "", 
     "language": "python", 
     "outputs": []
    }, 
    {
     "cell_type": "markdown", 
     "source": "f) Merge the first and last fragments of the list resulted from e) and store it in a new variable"
    }, 
    {
     "cell_type": "code", 
     "collapsed": true, 
     "input": "", 
     "language": "python", 
     "outputs": []
    }, 
    {
     "cell_type": "markdown", 
     "source": "## Problem X\n\nThe **human_sequence** variable imported from the **data** module contains a human DNA sequence\n\na) Print the **human_sequence** variable"
    }, 
    {
     "cell_type": "code", 
     "collapsed": true, 
     "input": "", 
     "language": "python", 
     "outputs": []
    }, 
    {
     "cell_type": "markdown", 
     "source": "b) Notice that both ends of the sequence contain gaps \"-\". Eliminate the gaps from boths ends of the sequence, and assign the resulting sequence to a new variable"
    }, 
    {
     "cell_type": "code", 
     "collapsed": true, 
     "input": "", 
     "language": "python", 
     "outputs": []
    }, 
    {
     "cell_type": "markdown", 
     "source": "c) Change the capitalization of the **human_sequence** variable"
    }, 
    {
     "cell_type": "code", 
     "collapsed": true, 
     "input": "", 
     "language": "python", 
     "outputs": []
    }, 
    {
     "cell_type": "markdown", 
     "source": "## Problem X\n\nThe **Species_list** variable imported from the **data** module contains a list with species names.\n\na) Determine the number of species in **Species_list**"
    }, 
    {
     "cell_type": "code", 
     "collapsed": true, 
     "input": "", 
     "language": "python", 
     "outputs": []
    }, 
    {
     "cell_type": "markdown", 
     "source": "b) Sort the **Species_list** variable by alphabetical order"
    }, 
    {
     "cell_type": "code", 
     "collapsed": true, 
     "input": "", 
     "language": "python", 
     "outputs": []
    }, 
    {
     "cell_type": "markdown", 
     "source": "c) Change the \"C_albicans\" entry by a new species: \"D_melanogaster\""
    }, 
    {
     "cell_type": "code", 
     "collapsed": true, 
     "input": "", 
     "language": "python", 
     "outputs": []
    }, 
    {
     "cell_type": "markdown", 
     "source": "d) Store the first 3 species of the **Species_list** list in a new variable: \"First_species\""
    }, 
    {
     "cell_type": "code", 
     "collapsed": true, 
     "input": "", 
     "language": "python", 
     "outputs": []
    }, 
    {
     "cell_type": "markdown", 
     "source": "e) Create a new empty list and add the following species as entries: \"C_kahawae\",\"Q_suber\",\"L_lepida\""
    }, 
    {
     "cell_type": "code", 
     "collapsed": true, 
     "input": "", 
     "language": "python", 
     "outputs": []
    }, 
    {
     "cell_type": "markdown", 
     "source": "## Problem X\n\na) Create a new string variable composed of 100 \"N\" characters"
    }, 
    {
     "cell_type": "code", 
     "collapsed": true, 
     "input": "", 
     "language": "python", 
     "outputs": []
    }, 
    {
     "cell_type": "markdown", 
     "source": "b) Create two new number variables with the numbers 23 and 323. Determine their sum, difference, division and multiplication"
    }, 
    {
     "cell_type": "code", 
     "collapsed": true, 
     "input": "", 
     "language": "python", 
     "outputs": []
    }, 
    {
     "cell_type": "markdown", 
     "source": "c) Notice that the division of 23 by 323 results in \"0\". Convert both numbers into floating point variables and repeat the division"
    }, 
    {
     "cell_type": "code", 
     "collapsed": true, 
     "input": "", 
     "language": "python", 
     "outputs": []
    }, 
    {
     "cell_type": "markdown", 
     "source": "## Problem X\n\nThe **sequences** variable contains a dictionary with taxon name as keys, and their DNA sequence of the Cytb gene as values.\n\na) Determine the number of taxa contained in the dictionary"
    }, 
    {
     "cell_type": "code", 
     "collapsed": true, 
     "input": "", 
     "language": "python", 
     "outputs": []
    }, 
    {
     "cell_type": "markdown", 
     "source": "b) Print both the taxon name and sequence of the 3\u00ba, 5\u00ba and 7\u00ba dictionary item. "
    }, 
    {
     "cell_type": "code", 
     "collapsed": true, 
     "input": "", 
     "language": "python", 
     "outputs": []
    }
   ]
  }
 ]
}