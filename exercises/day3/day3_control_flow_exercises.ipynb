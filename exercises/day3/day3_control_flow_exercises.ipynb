{
 "metadata": {
  "name": "Day3 : Control Flow Practicals"
 }, 
 "nbformat": 2, 
 "worksheets": [
  {
   "cells": [
    {
     "cell_type": "markdown", 
     "source": [
      "## Day 3: Control flow Practicals", 
      "", 
      "Let's get down to business and start typing some real code. In order to solve the proposed exercises you are required to use the provided examples."
     ]
    }, 
    {
     "cell_type": "code", 
     "collapsed": true, 
     "input": [
      "from data import cytb, translations, acidAA, IUPAC_codes"
     ], 
     "language": "python", 
     "outputs": [], 
     "prompt_number": 1
    }, 
    {
     "cell_type": "markdown", 
     "source": [
      "In this module you will find 3 things:", 
      "", 
      "- examples.sequences", 
      "", 
      "- examples.translations", 
      "", 
      "- examples.acid-aa", 
      "", 
      "", 
      "Just print() any one to see what's inside each of them."
     ]
    }, 
    {
     "cell_type": "markdown", 
     "source": [
      "### Problem 1", 
      "", 
      "Verify that there are no illegal characters in any of the sequences in *cytb*. ", 
      "</br></br>", 
      "####Tip:", 
      "Use the *IUPAC\\_codes* list that was imported from the data module to check if the sequence's nucleotides are legal."
     ]
    }, 
    {
     "cell_type": "code", 
     "collapsed": false, 
     "input": [], 
     "language": "python", 
     "outputs": [], 
     "prompt_number": 10
    }, 
    {
     "cell_type": "markdown", 
     "source": [
      "###Problem 2:", 
      "Translate the sequences in *cytb* from nucleotides into aminoacids.", 
      "</br></br>", 
      "####Tips:", 
      "Place the translation inside a dictionary;</br>", 
      "Use the translations dictionary from the data module (*IUPAC\\_codes*);</br>", 
      "Use a *for* loop to iterate through the sequences in *cytb*;</br>", 
      "Translating the sequences into a list of aminoacids rather than a string will save you work later on."
     ]
    }, 
    {
     "cell_type": "code", 
     "collapsed": true, 
     "input": [], 
     "language": "python", 
     "outputs": [], 
     "prompt_number": 10
    }, 
    {
     "cell_type": "markdown", 
     "source": [
      "### Problem 3:", 
      "Reverse and complement the sequences in *cytb*.", 
      "</br></br>", 
      "####Tip: ", 
      "Use slicing to reverse the sequence."
     ]
    }, 
    {
     "cell_type": "code", 
     "collapsed": true, 
     "input": [], 
     "language": "python", 
     "outputs": [], 
     "prompt_number": 10
    }, 
    {
     "cell_type": "markdown", 
     "source": [
      "###Problem 4:", 
      "a) Find the aminoacids in *acidAA* in the sequences from *cytb*. Return their positions in both the codon and the nucleotide", 
      "number. ", 
      "</br></br>", 
      "####Tip:", 
      "Remember that an acid aminoacid may be present more than once."
     ]
    }, 
    {
     "cell_type": "code", 
     "collapsed": false, 
     "input": [], 
     "language": "python", 
     "outputs": [], 
     "prompt_number": 10
    }, 
    {
     "cell_type": "markdown", 
     "source": [
      "b) How frequent are the acid aminoacids? Are they more or less frequent than what you would expect under a random distribution pattern?"
     ]
    }, 
    {
     "cell_type": "code", 
     "collapsed": false, 
     "input": [], 
     "language": "python", 
     "outputs": [], 
     "prompt_number": 11
    }, 
    {
     "cell_type": "markdown", 
     "source": [
      "c) Find any of the aminoacids from *acidAA* in *cytb* and return the sequence's nucleotides until any of the aminoacids is found; Return \"Target ", 
      "aminoacids not found\" if neither of them is present in the sequence. ", 
      "</br></br>", 
      "####Tip:", 
      "A while loop is the simplest choice here, but feel free to use any other way"
     ]
    }, 
    {
     "cell_type": "code", 
     "collapsed": false, 
     "input": [], 
     "language": "python", 
     "outputs": [], 
     "prompt_number": 11
    }, 
    {
     "cell_type": "markdown", 
     "source": [
      "### Problem 5:", 
      "Find all the equal sequences in *cytb* and \"collapse\" them into a single sequence (with the name of all the collapsed sequences)."
     ]
    }, 
    {
     "cell_type": "code", 
     "collapsed": false, 
     "input": [], 
     "language": "python", 
     "outputs": [], 
     "prompt_number": 11
    }
   ]
  }
 ]
}