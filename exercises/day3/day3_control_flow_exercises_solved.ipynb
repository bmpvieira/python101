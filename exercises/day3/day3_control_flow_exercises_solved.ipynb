{
 "metadata": {
  "name": "Day3 : Control Flow Practicals"
 }, 
 "name": "Day3 : Control Flow Practicals", 
 "nbformat": 2, 
 "worksheets": [
  {
   "cells": [
    {
     "cell_type": "markdown", 
     "source": "## Day 3: Control flow Practicals\n\nLet's get down to business and start typing some real code. In order to solve the proposed exercises you are required to use the provided examples."
    }, 
    {
     "cell_type": "code", 
     "collapsed": true, 
     "input": "from data import cytb, translations, acidAA, IUPAC_codes", 
     "language": "python", 
     "outputs": [], 
     "prompt_number": 1
    }, 
    {
     "cell_type": "markdown", 
     "source": "In this module you will find 3 things:\n\n- examples.sequences\n\n- examples.translations\n\n- examples.acid-aa\n\n\nJust print() any one to see what's inside each of them."
    }, 
    {
     "cell_type": "markdown", 
     "source": "### Problem 1\n\nVerify that there are no illegal characters in any of the sequences in *cytb*. \n</br></br>\n####Tip:\nUse the *IUPAC\\_codes* list that was imported from the data module to check if the sequence's nucleotides are legal."
    }, 
    {
     "cell_type": "code", 
     "collapsed": false, 
     "input": "for names,seqs in cytb.items():\n    for chars in seqs:\n        if chars not in IUPAC_codes:\n            print(\"Character %s in sequence %s is invalid. Please verify this...\" %(chars, seqs))\n            break\n    else:\n        print(\"No invalid caharcters found in %s. Good!\" %(names))", 
     "language": "python", 
     "outputs": [
      {
       "output_type": "stream", 
       "stream": "stdout", 
       "text": "No invalid caharcters found in Mo12. Good!\nNo invalid caharcters found in Mo11. Good!\nNo invalid caharcters found in Mo10. Good!\nNo invalid caharcters found in Ib8. Good!\nNo invalid caharcters found in Ib9. Good!\nNo invalid caharcters found in Ib16. Good!\nNo invalid caharcters found in Ib17. Good!\nNo invalid caharcters found in Ib15. Good!\nNo invalid caharcters found in Ib1. Good!\nNo invalid caharcters found in Ib2. Good!\nNo invalid caharcters found in Ib3. Good!\nNo invalid caharcters found in Ib4. Good!\nNo invalid caharcters found in Ib5. Good!\nNo invalid caharcters found in Ib6. Good!\nNo invalid caharcters found in Ib7. Good!\nNo invalid caharcters found in Mo9. Good!\nNo invalid caharcters found in Mo8. Good!\nNo invalid caharcters found in Outgroup. Good!\nNo invalid caharcters found in Mo3. Good!\nNo invalid caharcters found in Mo2. Good!\nNo invalid caharcters found in Mo1. Good!\nNo invalid caharcters found in Mo7. Good!\nNo invalid caharcters found in Mo6. Good!\nNo invalid caharcters found in Mo5. Good!\nNo invalid caharcters found in Mo4. Good!\nNo invalid caharcters found in Ib18. Good!\nNo invalid caharcters found in Ib19. Good!\nNo invalid caharcters found in Ib14. Good!\nNo invalid caharcters found in Ib11. Good!\nNo invalid caharcters found in Ib12. Good!\nNo invalid caharcters found in Ib13. Good!\nNo invalid caharcters found in Ib10. Good!\nNo invalid caharcters found in Ib24. Good!\nNo invalid caharcters found in Ib23. Good!\nNo invalid caharcters found in Ib22. Good!\nNo invalid caharcters found in Ib21. Good!"
      }, 
      {
       "output_type": "stream", 
       "stream": "stdout", 
       "text": "\nNo invalid caharcters found in Ib20. Good!"
      }
     ], 
     "prompt_number": 3
    }, 
    {
     "cell_type": "markdown", 
     "source": "###Problem 2:\nTranslate the sequences in *cytb* from nucleotides into aminoacids.\n</br></br>\n####Tips:\nPlace the translation inside a dictionary;</br>\nUse the translations dictionary from the data module (*IUPAC\\_codes*);</br>\nUse a *for* loop to iterate through the sequences in *cytb*;</br>\nTranslating the sequences into a list of aminoacids rather than a string will save you work later on."
    }, 
    {
     "cell_type": "code", 
     "collapsed": true, 
     "input": "cytbAA = {}\n\nfor names,seqs in cytb.items():\n    AAlist = []\n    for i in range(3,len(seqs),3):\n        codon = seqs[i-3:i]\n        if codon in translations:\n            AAlist.append(translations[seqs[i-3:i]])\n        else:\n            AAlist.append(\"N/A\")\n    cytbAA[names] = AAlist", 
     "language": "python", 
     "outputs": [], 
     "prompt_number": 5
    }, 
    {
     "cell_type": "markdown", 
     "source": "### Problem 3:\nReverse and complement the sequences in *cytb*.\n</br></br>\n####Tip: \nUse slicing to reverse the sequence."
    }, 
    {
     "cell_type": "code", 
     "collapsed": true, 
     "input": "cytbREV = {}\n\nfor names,seqs in cytb.items():\n    LOWseq = seqs.lower()\n    LOWseq = LOWseq.replace(\"a\",\"T\")\n    LOWseq = LOWseq.replace(\"c\",\"G\")\n    LOWseq = LOWseq.replace(\"g\",\"C\")\n    LOWseq = LOWseq.replace(\"t\",\"A\")\n    LOWseq = LOWseq.replace(\"n\",\"N\")\n    LOWseq = LOWseq.replace(\"r\",\"Y\")\n    LOWseq = LOWseq.replace(\"y\",\"R\")\n    LOWseq = LOWseq.replace(\"k\",\"M\")\n    LOWseq = LOWseq.replace(\"m\",\"K\")\n    LOWseq = LOWseq.replace(\"s\",\"W\")\n    LOWseq = LOWseq.replace(\"W\",\"s\")\n    LOWseq = LOWseq.replace(\"b\",\"V\")\n    LOWseq = LOWseq.replace(\"v\",\"B\")\n    LOWseq = LOWseq.replace(\"d\",\"H\")\n    LOWseq = LOWseq.replace(\"h\",\"D\")\n    revSEQ = LOWseq\n    cytbREV[names] = revSEQ[::-1]", 
     "language": "python", 
     "outputs": [], 
     "prompt_number": 6
    }, 
    {
     "cell_type": "markdown", 
     "source": "###Problem 4:\na) Find the aminoacids in *acidAA* in the sequences from *cytb*. Return their positions in both the codon and the nucleotide\nnumber. \n</br></br>\n####Tip:\nRemember that an acid aminoacid may be present more than once."
    }, 
    {
     "cell_type": "code", 
     "collapsed": false, 
     "input": "cytbAcidAA = {}\n\nfor names,AAs in cytbAA.items():\n    position = 0\n    found = []\n    nucleotides = []\n    for aa in AAs:\n        position += 1\n        if aa in acidAA:\n            found.append(position)\n            nucleotide_position = position * 3\n            codon = cytb[names][nucleotide_position:nucleotide_position+3]\n            nucleotides.append(nucleotide_position)\n    if found != []:\n        print(\"Acid aminoacid found in %s, in position(s) %s of the translated sequence.\" %(names, found))\n        print(\"This is represented by the codons in position(s) %s of the original sequence.\\n\" %(nucleotides))\n    else:\n        print(\"Acid aminoacid not found in %s\" %(names))\n    cytbAcidAA[names] = found", 
     "language": "python", 
     "outputs": [
      {
       "output_type": "stream", 
       "stream": "stdout", 
       "text": "Acid aminoacid found in Ib8, in position(s) [21, 35, 74, 125, 134, 165, 179, 191, 215, 217] of the translated sequence.\nThis is represented by the codons in position(s) [63, 105, 222, 375, 402, 495, 537, 573, 645, 651] of the original sequence.\n\nAcid aminoacid found in Ib9, in position(s) [21, 35, 74, 125, 134, 165, 179, 191, 215, 217] of the translated sequence.\nThis is represented by the codons in position(s) [63, 105, 222, 375, 402, 495, 537, 573, 645, 651] of the original sequence.\n\nAcid aminoacid found in Ib1, in position(s) [21, 35, 74, 125, 134, 165, 179, 191, 215, 217] of the translated sequence.\nThis is represented by the codons in position(s) [63, 105, 222, 375, 402, 495, 537, 573, 645, 651] of the original sequence.\n\nAcid aminoacid found in Ib2, in position(s) [21, 35, 74, 125, 134, 165, 179, 191, 215, 217] of the translated sequence.\nThis is represented by the codons in position(s) [63, 105, 222, 375, 402, 495, 537, 573, 645, 651] of the original sequence.\n\nAcid aminoacid found in Ib3, in position(s) [21, 35, 74, 125, 134, 165, 179, 191, 215, 217] of the translated sequence.\nThis is represented by the codons in position(s) [63, 105, 222, 375, 402, 495, 537, 573, 645, 651] of the original sequence.\n\nAcid aminoacid found in Ib4, in position(s) [21, 35, 74, 125, 134, 165, 179, 191, 215, 217] of the translated sequence.\nThis is represented by the codons in position(s) [63, 105, 222, 375, 402, 495, 537, 573, 645, 651] of the original sequence.\n\nAcid aminoacid found in Ib5, in position(s) [21, 35, 74, 125, 134, 165, 179, 191, 215, 217] of the translated sequence.\nThis is represented by the codons in position(s) [63, 105, 222, 375, 402, 495, 537, 573, 645, 651] of the original sequence.\n\nAcid aminoacid found in Ib6, in position(s) [21, 35, 74, 125, 134, 165, 179, 191, 215, 217] of the translated sequence.\nThis is represented by the codons in position(s) [63, 105, 222, 375, 402, 495, 537, 573, 645, 651] of the original sequence.\n\nAcid aminoacid found in Ib7, in position(s) [21, 35, 74, 125, 134, 165, 179, 191, 215, 217] of the translated sequence.\nThis is represented by the codons in position(s) [63, 105, 222, 375, 402, 495, 537, 573, 645, 651] of the original sequence.\n\nAcid aminoacid found in Outgroup, in position(s) [21, 35, 74, 125, 134, 165, 179, 191, 215, 217] of the translated sequence.\nThis is represented by the codons in position(s) [63, 105, 222, 375, 402, 495, 537, 573, 645, 651] of the original sequence.\n\nAcid aminoacid found in Ib24, in position(s) [21, 35, 74, 125, 134, 165, 179, 191, 215, 217] of the translated sequence.\nThis is represented by the codons in position(s) [63, 105, 222, 375, 402, 495, 537, 573, 645, 651] of the original sequence.\n\nAcid aminoacid found in Ib23, in position(s) [21, 35, 74, 125, 134, 165, 179, 191, 215, 217] of the translated sequence.\nThis is represented by the codons in position(s) [63, 105, 222, 375, 402, 495, 537, 573, 645, 651] of the original sequence.\n\nAcid aminoacid found in Ib22, in position(s) [21, 35, 74, 125, 134, 165, 179, 191, 215, 217] of the translated sequence.\nThis is represented by the codons in position(s) [63, 105, 222, 375, 402, 495, 537, 573, 645, 651] of the original sequence.\n\nAcid aminoacid found in Ib21, in position(s) [21, 35, 74, 125, 134, 165, 179, 191, 215, 217] of the translated sequence.\nThis is represented by the codons in position(s) [63, 105, 222, 375, 402, 495, 537, 573, 645, 651] of the original sequence.\n\nAcid aminoacid found in Ib20, in position(s) [21, 35, 74, 125, 134, 165, 179, 191, 215, 217] of the translated sequence.\nThis is represented by the codons in position(s) [63, 105, 222, 375, 402, 495, 537, 573, 645, 651] of the original sequence.\n\nAcid aminoacid found in Mo12, in position(s) [21, 35, 74, 125, 134, 165, 179, 191, 215, 217] of the translated sequence.\nThis is represented by the codons in position(s) [63, 105, 222, 375, 402, 495, 537, 573, 645, 651] of the original sequence.\n\nAcid aminoacid found in Mo11, in position(s) [21, 35, 74, 125, 134, 165, 179, 191, 215, 217] of the translated sequence.\nThis is represented by the codons in position(s) [63, 105, 222, 375, 402, 495, 537, 573, 645, 651] of the original sequence.\n\nAcid aminoacid found in Mo10, in position(s) [21, 35, 74, 125, 134, 165, 179, 191, 215, 217] of the translated sequence.\nThis is represented by the codons in position(s) [63, 105, 222, 375, 402, 495, 537, 573, 645, 651] of the original sequence.\n\nAcid aminoacid found in Mo9, in position(s) [21, 35, 74, 125, 134, 165, 179, 191, 215, 217] of the translated sequence.\nThis is represented by the codons in position(s) [63, 105, 222, 375, 402, 495, 537, 573, 645, 651] of the original sequence.\n\nAcid aminoacid found in Mo8, in position(s) [21, 35, 74, 125, 134, 165, 179, 191, 215, 217] of the translated sequence.\nThis is represented by the codons in position(s) [63, 105, 222, 375, 402, 495, 537, 573, 645, 651] of the original sequence.\n\nAcid aminoacid found in Mo3, in position(s) [21, 35, 74, 125, 134, 165, 179, 191, 215, 217] of the translated sequence.\nThis is represented by the codons in position(s) [63, 105, 222, 375, 402, 495, 537, 573, 645, 651] of the original sequence.\n\nAcid aminoacid found in Mo2, in position(s) [21, 35, 74, 125, 134, 165, 179, 191, 215, 217] of the translated sequence.\nThis is represented by the codons in position(s) [63, 105, 222, 375, 402, 495, 537, 573, 645, 651] of the original sequence.\n\nAcid aminoacid found in Mo1, in position(s) [21, 35, 74, 125, 134, 165, 179, 191, 215, 217] of the translated sequence.\nThis is represented by the codons in position(s) [63, 105, 222, 375, 402, 495, 537, 573, 645, 651] of the original sequence.\n\nAcid aminoacid found in Mo7, in position(s) [21, 35, 74, 125, 134, 165, 179, 191, 215, 217] of the translated sequence.\nThis is represented by the codons in position(s) [63, 105, 222, 375, 402, 495, 537, 573, 645, 651] of the original sequence.\n\nAcid aminoacid found in Mo6, in position(s) [21, 35, 74, 125, 134, 165, 179, 191, 215, 217] of the translated sequence.\nThis is represented by the codons in position(s) [63, 105, 222, 375, 402, 495, 537, 573, 645, 651] of the original sequence.\n\nAcid aminoacid found in Mo5, in position(s) [21, 35, 74, 125, 134, 165, 179, 191, 215, 217] of the translated sequence.\nThis is represented by the codons in position(s) [63, 105, 222, 375, 402, 495, 537, 573, 645, 651] of the original sequence.\n\nAcid aminoacid found in Mo4, in position(s) [21, 35, 74, 125, 134, 165, 179, 191, 215, 217] of the translated sequence."
      }, 
      {
       "output_type": "stream", 
       "stream": "stdout", 
       "text": "\nThis is represented by the codons in position(s) [63, 105, 222, 375, 402, 495, 537, 573, 645, 651] of the original sequence.\n\nAcid aminoacid found in Ib18, in position(s) [21, 35, 74, 125, 134, 165, 179, 191, 215, 217] of the translated sequence.\nThis is represented by the codons in position(s) [63, 105, 222, 375, 402, 495, 537, 573, 645, 651] of the original sequence.\n\nAcid aminoacid found in Ib19, in position(s) [21, 35, 74, 125, 134, 165, 179, 191, 215, 217] of the translated sequence.\nThis is represented by the codons in position(s) [63, 105, 222, 375, 402, 495, 537, 573, 645, 651] of the original sequence.\n\nAcid aminoacid found in Ib12, in position(s) [21, 35, 74, 125, 134, 165, 179, 191, 215, 217] of the translated sequence.\nThis is represented by the codons in position(s) [63, 105, 222, 375, 402, 495, 537, 573, 645, 651] of the original sequence.\n\nAcid aminoacid found in Ib13, in position(s) [21, 35, 74, 125, 134, 165, 179, 191, 215, 217] of the translated sequence.\nThis is represented by the codons in position(s) [63, 105, 222, 375, 402, 495, 537, 573, 645, 651] of the original sequence.\n\nAcid aminoacid found in Ib10, in position(s) [21, 35, 74, 125, 134, 165, 179, 191, 215, 217] of the translated sequence.\nThis is represented by the codons in position(s) [63, 105, 222, 375, 402, 495, 537, 573, 645, 651] of the original sequence.\n\nAcid aminoacid found in Ib11, in position(s) [21, 35, 74, 125, 134, 165, 179, 191, 215, 217] of the translated sequence.\nThis is represented by the codons in position(s) [63, 105, 222, 375, 402, 495, 537, 573, 645, 651] of the original sequence.\n\nAcid aminoacid found in Ib16, in position(s) [21, 35, 74, 125, 134, 165, 179, 191, 215, 217] of the translated sequence.\nThis is represented by the codons in position(s) [63, 105, 222, 375, 402, 495, 537, 573, 645, 651] of the original sequence.\n\nAcid aminoacid found in Ib17, in position(s) [21, 35, 74, 125, 134, 165, 179, 191, 215, 217] of the translated sequence.\nThis is represented by the codons in position(s) [63, 105, 222, 375, 402, 495, 537, 573, 645, 651] of the original sequence.\n\nAcid aminoacid found in Ib14, in position(s) [21, 35, 74, 125, 134, 165, 179, 191, 215, 217] of the translated sequence.\nThis is represented by the codons in position(s) [63, 105, 222, 375, 402, 495, 537, 573, 645, 651] of the original sequence.\n\nAcid aminoacid found in Ib15, in position(s) [21, 35, 74, 125, 134, 165, 179, 191, 215, 217] of the translated sequence.\nThis is represented by the codons in position(s) [63, 105, 222, 375, 402, 495, 537, 573, 645, 651] of the original sequence.\n"
      }
     ], 
     "prompt_number": 7
    }, 
    {
     "cell_type": "markdown", 
     "source": "b) How frequent are the acid aminoacids? Are they more or less frequent than what you would expect under a random distribution pattern?"
    }, 
    {
     "cell_type": "code", 
     "collapsed": false, 
     "input": "for names,acids in cytbAcidAA.items():     \n    frequency = len(acids) / float(len(cytbAA[names]))\n    print(frequency)", 
     "language": "python", 
     "outputs": [
      {
       "output_type": "stream", 
       "stream": "stdout", 
       "text": "0.0456621004566\n0.0456621004566\n0.0456621004566\n0.0456621004566\n0.0456621004566\n0.0456621004566\n0.0456621004566\n0.0456621004566\n0.0456621004566\n0.0456621004566\n0.0456621004566\n0.0456621004566\n0.0456621004566\n0.0456621004566\n0.0456621004566\n0.0456621004566\n0.0456621004566\n0.0456621004566\n0.0456621004566\n0.0456621004566\n0.0456621004566\n0.0456621004566\n0.0456621004566\n0.0456621004566\n0.0456621004566\n0.0456621004566\n0.0456621004566\n0.0456621004566\n0.0456621004566\n0.0456621004566\n0.0456621004566\n0.0456621004566\n0.0456621004566\n0.0456621004566\n0.0456621004566\n0.0456621004566\n0.0456621004566"
      }
     ], 
     "prompt_number": 10
    }, 
    {
     "cell_type": "markdown", 
     "source": "c) Find any of the aminoacids from *acidAA* in *cytb* and return the sequence's nucleotides until any of the aminoacids is found; Return \"Target \naminoacids not found\" if neither of them is present in the sequence. \n</br></br>\n####Tip:\nA while loop is the simplest choice here, but feel free to use any other way"
    }, 
    {
     "cell_type": "code", 
     "collapsed": false, 
     "input": "acid_translations = { 'GAT': 'Asp', 'GAC': 'Asp', 'GAA': 'Glu', 'GAG': 'Glu'}\n\nfor names,seqs in cytb.items():\n    codon = \"\"\n    index = 3\n    while codon not in acid_translations:\n        codon = seqs[index-3:index]\n        index +=3\n    else:\n        short_sequence = seqs[:index]\n        print(short_sequence)", 
     "language": "python", 
     "outputs": [
      {
       "output_type": "stream", 
       "stream": "stdout", 
       "text": "NNNNNNNNNNNNNNNNNNNNNNNNNNNNNNNNNNNNNNNNNNNNNNNNNNNNNNNNNNCAGATATT\nGGATTGTGCCTAATTACTCAAATTGTCACAGGGTTATTTTTAGCAATACACTACAATGCAGATATT\nGGACTGTGCCTAATTACTCAAATTGTTACAGGGTTATTTTTAGCAATACACTACAATGCAGATATT\nGGATTGTGCCTAATTACTCAAATTGTTACAGGATTATTTTTAGCAATACACTACAATGCAGATATT\nGGATTGTGCCTAATTACTCAAATTGTTACAGGATTATTTTTAGCAATACACTACAATGCAGATATT\nGGATTATGCCTAATTACTCAAATTGTTACAGGATTATTTTTAGCAATACACTACAATGCAGATATT\nGGATTGTGCCTAATTACTCAAATTGTTACAGGATTATTTTTAGCAATACACTACAATGCAGATATT\nGGATTGTGCCTAATTACTCAAATTGTTACAGGATTATTTTTAGCAATACACTACAATGCAGATATT\nGGATTGTGCCTAATTACTCAAATTGTTACCGGATTATTTTTAGCAATACACTATAATGCAGATATT\nGGATTGTGCCTAATTACTCAAATTGTTACCGGATTATTTTTAGCAATACACTATAATGCAGATATT\nGGATTGTGCCTAATTACTCAAATTGTTACCGGATTATTTTTAGCAATACACTATAATGCAGATATT\nGGATTGTGCCTAATTACTCAAATTGTTACCGGACTATTTTTAGCAATACACTATAATGCAGATATT\nNNNNNNNNNNNNNNNNNNNNNNNNNNNNNNNNACTATTTTTAGCAATACACTATAATGCAGATATT\nGGATTGTGCCTAATTACTCAAATTGTTACCGGACTATTTTTAGCAATACACTATAATGCAGATATT\nGGATTGTGCCTAATTACTCAAATTGTTACCGGACTATTTTTAGCAATACACTATAATGCAGATATT\nGGACTATGCCTAATTACTCAAATTGTTACAGGATTATTTTTAGCAATACACTACAATGCAGATATT\nGGACTATGCCTAATCACTCAAATTGTTACAGGATTGTTTTTAGCAATACACTACAATGCGGATATT\nGGCCTCTGTTTAATTATTCAAACCGTTACAGGCCTTTTTCTAGCCATACACTACACCCCAGACATC\nGGATTATGCCTAATTACTCAAATTGTTACAGGATTATTTTTAGCAATACACTACAACGCAGATATT\nGGATTATGCCTAATTACTCAAATTGTTACAGGGTTATTTTTAGCAATACACTACAACGCAGATATT\nGGATTATGCCTAATTACTCAAATTGTTACAGGGTTATTTTTAGCAATACACTACAACGCAGATATT\nGGACTATGCCTAATCACTCAAATTGTTACAGGATTGTTTTTAGCAATACACTACAATGCAGATATT\nGGACTATGCCTAATCACTCAAATTGTTACAGGATTGTTTTTAGCAATACACTACAATGCAGATATT\nGGACTATGCCTAATCACTCAAATTGTTACAGGATTGTTTTTAGCAATACACTACAATGCAGATATT\nGGATTATGCCTAATTACTCAAATTGTTACAGGATTATTTTTAGCAATACACTACAACGCAGATATT\nGGATTATGCCTAATTACTCAAATTGTTACAGGATTATTTTTAGCAATACACTACAATGCAGATATT\nGGATTATGCCTAATTACTCAAATTGTTACAGGATTATTTTTAGCAATACACTACAATGCAGATATT\nGGATTGTGCCTAATTACTCAAATTGTTACAGGATTATTTTTAGCAATACACTACAATGCAGATATT\nGGATTGTGCCTAATTACTCAAATTGTTACAGGATTATTTTTAGCAATACACTACAATGCAGATATT\nGGATTGTGCCTAATTACTCAAATTGTTACAGGATTATTTTTAGCAATACACTACAATGCAGATATT\nGGATTGTGCCTAATTACTCAAATTGTTACAGGATTATTTTTAGCAATACACTACAATGCAGATATT\nGGATTGTGCCTAATTACTCAAATTGTTACAGGATTATTTTTAGCAATACACTACAATGCAGATATT\nNNNNNNNNNNNNNNNNNNNNNNNNNNNNNNGGATTATTTTTAGCAATACACTACAATGCAGATATT\nGGATTATGCCTAATTACTCAAATTGTTACAGGGTTATTTTTAGCAATACACTACAACGCAGATATT\nGGATTGTGCCTAATTACTCAAATTGTTACAGGATTATTTTTAGCAATACACTACAATGCAGATATT\nGGATTATGCCTAGTTACTCAAATTGTTACAGGATTATTTTTAGCAATACACTACAATGCAGATATT\nGGAATATGCCTAATTACTCAAATTGTTACAGGATTATTTTTAGCAATACACTACAATGCAGATATT"
      }
     ], 
     "prompt_number": 58
    }, 
    {
     "cell_type": "markdown", 
     "source": "### Problem 5:\nFind all the equal sequences in *cytb* and \"collapse\" them into a single sequence (with the name of all the collapsed sequences)."
    }, 
    {
     "cell_type": "code", 
     "collapsed": false, 
     "input": "collapsed_cytb = {}\n\nfor names,seqs in cytb.items():\n    if seqs not in collapsed_cytb.values():\n        collapsed_cytb[names] = seqs\n    else:\n        for k,v in collapsed_cytb.items():\n            if v == seqs:\n                merged_names = k + \";\" + names\n                break\n        collapsed_cytb[merged_names] = collapsed_cytb.pop(k)\n\nfor i in collapsed_cytb:\n    print(i)", 
     "language": "python", 
     "outputs": [
      {
       "output_type": "stream", 
       "stream": "stdout", 
       "text": "Ib8;Ib9;Ib14;Ib11;Ib12;Ib13;Ib10\nIb1\nIb2\nIb3\nIb4\nIb5\nIb6\nIb7\nOutgroup\nMo6;Mo5\nIb24\nIb23\nIb22\nIb21\nIb20\nMo12\nMo11\nMo10\nMo9\nMo8\nMo3\nMo2\nMo1\nMo7\nMo4\nIb18\nIb19\nIb16\nIb17\nIb15"
      }
     ], 
     "prompt_number": 13
    }
   ]
  }
 ]
}