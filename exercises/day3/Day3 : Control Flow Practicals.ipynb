{
 "metadata": {
  "name": "Day3 : Control Flow Practicals"
 }, 
 "name": "Day3 : Control Flow Practicals", 
 "nbformat": 2, 
 "worksheets": [
  {
   "cells": [
    {
     "cell_type": "markdown", 
     "source": "## Day 3: Control flow Practicals\n\nLet's get down to business and start typing some real code. In order to solve the proposed exercises you are required to use the provided examples."
    }, 
    {
     "cell_type": "code", 
     "collapsed": true, 
     "input": "from data import cytb, translations, acidAA, IUPAC_codes", 
     "language": "python", 
     "outputs": [], 
     "prompt_number": 1
    }, 
    {
     "cell_type": "markdown", 
     "source": "In this module you will find 3 things:\n\n- examples.sequences\n\n- examples.translations\n\n- examples.acid-aa\n\n\nJust print() any one to see what's inside each of them."
    }, 
    {
     "cell_type": "markdown", 
     "source": "### Problem 1\n\nVerify that there are no illegal characters in any of the sequences in *cytb*. \n</br></br>\n####Tip:\nUse the *IUPAC\\_codes* list that was imported from the data module to check if the sequence's nucleotides are legal."
    }, 
    {
     "cell_type": "code", 
     "collapsed": true, 
     "input": "", 
     "language": "python", 
     "outputs": []
    }, 
    {
     "cell_type": "markdown", 
     "source": "###Problem 2:\nTranslate the sequences in *cytb* from nucleotides into aminoacids.\n</br></br>\n####Tips:\nUse the translations dictionary from the data module (*translations*);</br>\nUse a *for* loop to iterate through the sequences in *cytb*;</br>\nTranslating the sequences into a list of aminoacids rather than a string will save you work later on."
    }, 
    {
     "cell_type": "code", 
     "collapsed": true, 
     "input": "", 
     "language": "python", 
     "outputs": []
    }, 
    {
     "cell_type": "markdown", 
     "source": "### Problem 3:\nReverse and complement the sequences in *cytb*.\n</br></br>\n####Tip: \nUse slicing to reverse the sequence."
    }, 
    {
     "cell_type": "code", 
     "collapsed": true, 
     "input": "", 
     "language": "python", 
     "outputs": []
    }, 
    {
     "cell_type": "markdown", 
     "source": "###Problem 4:\na) Find the aminoacids in acidAA in the sequences from cytb. Return the positions of both the amino acid (in the protein sequence) and the codon position (in the nucleotide sequence). \n</br></br>\n####Tip:\nRemember that an acid aminoacid may be present more than once."
    }, 
    {
     "cell_type": "code", 
     "collapsed": true, 
     "input": "", 
     "language": "python", 
     "outputs": []
    }, 
    {
     "cell_type": "markdown", 
     "source": "b) How frequent are the acid amino acids? Are they more or less frequent than what you would expect under a random distribution pattern (i.e., where every amino acid has the same probability of occurring)?"
    }, 
    {
     "cell_type": "code", 
     "collapsed": true, 
     "input": "", 
     "language": "python", 
     "outputs": []
    }, 
    {
     "cell_type": "markdown", 
     "source": "c) Return the sequence's nucleotides from each sequence in cytb until any of the acid amino acids from acidAA is found; Return \"Target aminoacids not found\" if neither of them is present in the sequence. \n</br></br>\n####Tip:\nA while loop is the simplest choice here, but feel free to use any other way"
    }, 
    {
     "cell_type": "code", 
     "collapsed": true, 
     "input": "", 
     "language": "python", 
     "outputs": []
    }, 
    {
     "cell_type": "markdown", 
     "source": "### Problem 5:\nFind all the equal sequences in *cytb* and \"collapse\" them into a single sequence (with the name of all the collapsed sequences)."
    }, 
    {
     "cell_type": "code", 
     "collapsed": true, 
     "input": "", 
     "language": "python", 
     "outputs": []
    }
   ]
  }
 ]
}