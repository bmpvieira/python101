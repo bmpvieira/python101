{
 "metadata": {
  "name": "Day 4: Functions and IO Practicals"
 }, 
 "nbformat": 2, 
 "worksheets": [
  {
   "cells": [
    {
     "cell_type": "markdown", 
     "source": [
      "## Day 4: Functions and Input/Output practicals", 
      "", 
      "Let's start by importing from the **data** module:"
     ]
    }, 
    {
     "cell_type": "code", 
     "collapsed": true, 
     "input": [
      "from data import blast_out,human_sequence,IUPAC_codes"
     ], 
     "language": "python", 
     "outputs": [], 
     "prompt_number": 1
    }, 
    {
     "cell_type": "markdown", 
     "source": [
      "### Problem 1:", 
      "", 
      "The ***human\\_sequence*** variable imported from the **data** module is a cDNA sequence string resembling a typical aligned sequence, with gaps spread", 
      "throughout. ", 
      "", 
      "a) Define a function capable of taking any sequence string as input, and that prints a new sequence without gaps. The function must also accomodate", 
      "different gap symbols (\"-\" and \"?\")."
     ]
    }, 
    {
     "cell_type": "code", 
     "collapsed": true, 
     "input": [], 
     "language": "python", 
     "outputs": []
    }, 
    {
     "cell_type": "markdown", 
     "source": [
      "b) Define a function similar to the one created for a), but capable of printing a new sequence without gaps entirely OR without gaps only at the ", 
      "3' and 5' extremities of the sequence. ", 
      "", 
      "(Tip: You can use a boolean variable as an argument of the function, e.g. zero_gaps = True and zero_gaps =", 
      "False)"
     ]
    }, 
    {
     "cell_type": "code", 
     "collapsed": true, 
     "input": [], 
     "language": "python", 
     "outputs": []
    }, 
    {
     "cell_type": "markdown", 
     "source": [
      "c) Define a function capable of finding any motif in a sequence, and returning a tuple with the starting and ending positions of its first ", 
      "appearance. If the motif does not exist, print an error message.  Find the following motifs:", 
      "", 
      "- \"GGGTTCACTT\"", 
      "- \"GATCA\"", 
      "- \"AACAT\"", 
      "- \"GGTGTGGGGGG\""
     ]
    }, 
    {
     "cell_type": "code", 
     "collapsed": true, 
     "input": [], 
     "language": "python", 
     "outputs": []
    }, 
    {
     "cell_type": "markdown", 
     "source": [
      "d) Modify the function created in c), so that it can take a variable number of motifs as arguments and return a dictionary with the motifs as *keys*", 
      "and the tuple with the positions as *values*."
     ]
    }, 
    {
     "cell_type": "code", 
     "collapsed": true, 
     "input": [], 
     "language": "python", 
     "outputs": []
    }, 
    {
     "cell_type": "markdown", 
     "source": [
      "### Problem 2", 
      "", 
      "The list blast_out from the examples module contains a short table of blast results in a simplified tabular format with the following fields per hit:", 
      "", 
      "***query sequence*** \\t ***subject sequence*** \\t ***identification percentage***  \\t ***e-value***", 
      "", 
      "a) Define a function that returns a list containing only the blast hits with an e-value below $1 \\times 10^{-5}$. This e-value cut-off ", 
      "should be the default, but the function must be flexible enough to be called with different cut-off values.", 
      "", 
      "(Tip: Python is able to recognize and interpret numbers in scientific notation when converted with float(), e.g. float(1e-7))"
     ]
    }, 
    {
     "cell_type": "code", 
     "collapsed": true, 
     "input": [], 
     "language": "python", 
     "outputs": []
    }, 
    {
     "cell_type": "markdown", 
     "source": [
      "b) Based on the list returned by the function in a), define a function that sorts the blast hits according to their identification percentage", 
      "into three lists of high (100-90%), moderate (90-60%) and low (below 60%) identity percentage. Return those lists into separate variables and", 
      "compute the number of hits in each identity percentage class."
     ]
    }, 
    {
     "cell_type": "code", 
     "collapsed": true, 
     "input": [], 
     "language": "python", 
     "outputs": []
    }, 
    {
     "cell_type": "markdown", 
     "source": [
      "c) Modify the function in a) so that it can take a file object as input, instead of a list."
     ]
    }, 
    {
     "cell_type": "code", 
     "collapsed": true, 
     "input": [], 
     "language": "python", 
     "outputs": []
    }, 
    {
     "cell_type": "markdown", 
     "source": [
      "c) Open the \"blast_out.txt\" file in read mode and use the previous function to return a list of blast hits with e-values below ", 
      "$1 \\times 10^{-15}$. "
     ]
    }, 
    {
     "cell_type": "code", 
     "collapsed": true, 
     "input": [], 
     "language": "python", 
     "outputs": []
    }, 
    {
     "cell_type": "markdown", 
     "source": [
      "d) Create a script that includes the function defined in a). When executed through the terminal, the script should prompt the user for:", 
      "", 
      "- the path and filename of the blast output file that is going to be read", 
      "- the desired e-value cutoff", 
      "- the name of the output filename", 
      "", 
      "The script must open and read the provided input file, and write all blast hits above the desired e-value cutoff to a new file with the ", 
      "name provided by the user."
     ]
    }, 
    {
     "cell_type": "code", 
     "collapsed": true, 
     "input": [], 
     "language": "python", 
     "outputs": []
    }, 
    {
     "cell_type": "markdown", 
     "source": [
      "### Problem 3:", 
      "", 
      "Use python to open the \"My_fasta.fas\" file in read mode. ", 
      "", 
      "a) Define a function that returns a dictionary with the fasta headers as *keys* and their sequence as the corresponding *value*."
     ]
    }, 
    {
     "cell_type": "code", 
     "collapsed": true, 
     "input": [], 
     "language": "python", 
     "outputs": []
    }, 
    {
     "cell_type": "markdown", 
     "source": [
      "b) Define a function that performs some quality checks for each sequence. Check if:", 
      "", 
      "- all sequences are of the same size. If not, the function should print a message informing which taxa have sequences of different length.", 
      "- there are no illegal characters in each sequence. If there are, the function should print a message informing which taxon's sequence has problems", 
      "and what is the illegal character. (Tip: Use the *IUPAC\\_codes* list from the *data* module to check for illegal characters)"
     ]
    }, 
    {
     "cell_type": "code", 
     "collapsed": true, 
     "input": [], 
     "language": "python", 
     "outputs": []
    }, 
    {
     "cell_type": "markdown", 
     "source": [
      "c) Create a function that uses the dictionary created in a) and collapses taxa with identical sequences into the same haplotype. Write these unique", 
      "haplotypes to a new file (My_fasta_collapsed.fas) in fasta format, and write the correspondance between haplotype and taxon name in another file", 
      "(My_haplotype_list.txt). "
     ]
    }, 
    {
     "cell_type": "code", 
     "collapsed": true, 
     "input": [], 
     "language": "python", 
     "outputs": []
    }
   ]
  }
 ]
}