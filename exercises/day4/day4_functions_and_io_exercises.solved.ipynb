{
 "metadata": {
  "name": "Day 4: Functions and IO Practicals"
 }, 
 "name": "Day 4: Functions and IO Practicals", 
 "nbformat": 2, 
 "worksheets": [
  {
   "cells": [
    {
     "cell_type": "markdown", 
     "source": "Let's start by importing from the **data** module:"
    }, 
    {
     "cell_type": "code", 
     "collapsed": true, 
     "input": "from data import blast_out,human_sequence,IUPAC_codes", 
     "language": "python", 
     "outputs": [], 
     "prompt_number": 1
    }, 
    {
     "cell_type": "markdown", 
     "source": "### Problem 1:\n\nThe ***human\\_sequence*** variable imported from the **data** module is a cDNA sequence string resembling a typical aligned sequence, with gaps spread\nthroughout. \n\na) Define a function capable of taking any sequence string as input, and that prints a new sequence without gaps. The function must also accomodate\ndifferent gap symbols (\"-\" and \"?\")."
    }, 
    {
     "cell_type": "code", 
     "collapsed": true, 
     "input": "# First method\ndef gap_cutter (sequence,gap_symbol): \n    new_sequence = sequence.lower().replace(gap_symbol.lower(),\"\") # Using the .lower() or .upper() string method, ensures that  \n    print new_sequence                                            # the function is insensitive to characters' capitalization\n    \ngap_cutter(human_sequence,\"-\")\n\n# Second method\ndef gap_cutter2 (sequence,gap_symbol): \n    new_sequence = \"\"\n    for character in sequence:\n        if character.upper() != gap_symbol.upper():\n            new_sequence += character\n        else:\n            pass\n    print new_sequence\n\ngap_cutter2(human_sequence,\"-\")", 
     "language": "python", 
     "outputs": [
      {
       "output_type": "stream", 
       "stream": "stdout", 
       "text": "cccacgcgtccgcggacgcgtgggcgtacgcgtgggcggacgcgtgggaagaaatcttagacaaaaaagttgagaaagttgctgtatcaaatcggttggttgattcaccatgttgtatcgttacaagcacctatggttggtctgccaacatggagcgtattatgaaagcacaagctctaagagattccagtaccatgggttacatggctgccaaaaaacatttagaaatcaatcctgatcatcaaattatgatcgcattgaaaaagaaagttgaagctgacaaaaatgataaatcaatcaaagatttgattgttctgctttatgaaacatcattgttgtcgtctgggttcactttggaagacccacagaatcatgcatctagaattcacagaatgatcaaattaggacttggtgtagatgatgagccagttgctgaagaaatcgacactggtgatatgccaccactggaaggtgatgctgcagaagatgaggacaaagccagaatggaagaagtagattaaagtcaacttgaaaacttatggcaatagtaatggagactcaaaattgagttgcagtttggcacacattcgagcgatgtttgataggaactgaataagattgcatacagcgttaatg\nCCCACGCGTCCGCGGACGCGTGGGCGTACGCGTGGGCGGACGCGTGGGAAGAAATCTTAGACAAAAAAGTTGAGAAAGTTGCTGTATCAAATCGGTTGGTTGATTCACCATGTTGTATCGTTACAAGCACCTATGGTTGGTCTGCCAACATGGAGCGTATTATGAAAGCACAAGCTCTAAGAGATTCCAGTACCATGGGTTACATGGCTGCCAAAAAACATTTAGAAATCAATCCTGATCATCAAATTATGATCGCATTGAAAAAGAAAGTTGAAGCTGACAAAAATGATAAATCAATCAAAGATTTGATTGTTCTGCTTTATGAAACATCATTGTTGTCGTCTGGGTTCACTTTGGAAGACCCACAGAATCATGCATCTAGAATTCACAGAATGATCAAATTAGGACTTGGTGTAGATGATGAGCCAGTTGCTGAAGAAATCGACACTGGTGATATGCCACCACTGGAAGGTGATGCTGCAGAAGATGAGGACAAAGCCAGAATGGAAGAAGTAGATTAAAGTCAACTTGAAAACTTATGGCAATAGTAATGGAGACTCAAAATTGAGTTGCAGTTTGGCACACATTCGAGCGATGTTTGATAGGAACTGAATAAGATTGCATACAGCGTTAATG"
      }
     ], 
     "prompt_number": 45
    }, 
    {
     "cell_type": "markdown", 
     "source": "b) Define a function similar to the one created for a), but capable of printing a new sequence without gaps entirely OR without gaps only at the \n3' and 5' extremities of the sequence. (Tip: You can use a boolean variable as an argument of the function, e.g. zero_gaps = True and zero_gaps =\nFalse)"
    }, 
    {
     "cell_type": "code", 
     "collapsed": true, 
     "input": "def gap_cutter3 (sequence,gap_symbol,zero_gaps):\n    if zero_gaps == True:\n        new_sequence = sequence.lower().replace(gap_symbol,\"\")\n        print new_sequence\n    elif zero_gaps == False:\n        new_sequence = sequence.upper().strip(gap_symbol)\n        print new_sequence\n\ngap_cutter3 (human_sequence,\"-\",True)\ngap_cutter3 (human_sequence,\"-\",False)", 
     "language": "python", 
     "outputs": [
      {
       "output_type": "stream", 
       "stream": "stdout", 
       "text": "cccacgcgtccgcggacgcgtgggcgtacgcgtgggcggacgcgtgggaagaaatcttagacaaaaaagttgagaaagttgctgtatcaaatcggttggttgattcaccatgttgtatcgttacaagcacctatggttggtctgccaacatggagcgtattatgaaagcacaagctctaagagattccagtaccatgggttacatggctgccaaaaaacatttagaaatcaatcctgatcatcaaattatgatcgcattgaaaaagaaagttgaagctgacaaaaatgataaatcaatcaaagatttgattgttctgctttatgaaacatcattgttgtcgtctgggttcactttggaagacccacagaatcatgcatctagaattcacagaatgatcaaattaggacttggtgtagatgatgagccagttgctgaagaaatcgacactggtgatatgccaccactggaaggtgatgctgcagaagatgaggacaaagccagaatggaagaagtagattaaagtcaacttgaaaacttatggcaatagtaatggagactcaaaattgagttgcagtttggcacacattcgagcgatgtttgataggaactgaataagattgcatacagcgttaatg\nCCCACGCGTCCGCGGACGCGTGGGCGTACGCGTGGGCGGACGCGTGGGAAGAAATCTTAGACAAAAAAGTTGAGAAAGTTGCTGTATCAAATCGGTTGGTTGATTCACCATGTTGTATCGTTACAAGCACCTATGGTTGGTCTGCCAACATGGAGCGTATTATGAAAGCACAAGCTCTAAGAGATTCCAGTACCATGGG----TTACATGGCTGCCAAAAAACATTTAGAAATCAATCCTGATCATCAAATTATGATCGCATTGAAAAAGAAAGTTGAAGCTGACAAAAATGATAAATCAATCAAAGATTTGATTGTTCTGCTTTATGA-----AACATCATTGTTGTCGTCTGGGTTCACTTTGGAAGACCCACAGAATCATGCATCTAGAAT------TCACAGAATGATCAAATTAGGACTTGGTGTAGATGATGAGCCAGTTGCTGAAGAAATCGACACTGGTGATATGCCACCACTGGAAGGTGATGCTGCAGAAGATGAGGACAAAGCCAGAATGGAAGAAGTAGATTAAAGTCAAC----TTGAAAACTTATGGCAATAGTAATGGAGACTCAAAATTGAGTTGCAGTTTGGCACACATTCGAGCGATGTTTGATAGGAACTGAATAAGATTGCATACAGCGTTAATG"
      }
     ], 
     "prompt_number": 4
    }, 
    {
     "cell_type": "markdown", 
     "source": "c) Define a function capable of finding any motif in a sequence, and returning a tuple with the starting and ending positions of its first \nappearance. If the motif does not exist, print an error message.  Find the following motifs:\n\n- \"GGGTTCACTT\"\n- \"GATCA\"\n- \"AACAT\"\n- \"GGTGTGGGGGG\""
    }, 
    {
     "cell_type": "code", 
     "collapsed": false, 
     "input": "def motif_finder (motif,sequence):\n    motif,sequence = motif.upper(),sequence.upper()\n    start_position = sequence.find(motif)\n    if start_position >= 0:\n        end_position = sequence.find(motif)+len(motif)\n        return (start_position,end_position)\n    else:\n        print \"The motif %s does not exist\" % (motif)\n\nmotif1 = motif_finder (\"GGGTTCACTT\",human_sequence)\nprint motif1,human_sequence[motif1[0]:motif1[1]]\n\nmotif2 = motif_finder (\"GATCA\",human_sequence)\nprint motif2,human_sequence[motif2[0]:motif2[1]]\n\nmotif3 = motif_finder (\"AACAT\",human_sequence)\nprint motif3,human_sequence[motif3[0]:motif3[1]]\n\nmotif4 = motif_finder (\"GGTGTGGGGGG\",human_sequence)\nprint motif4", 
     "language": "python", 
     "outputs": [
      {
       "output_type": "stream", 
       "stream": "stdout", 
       "text": "(366, 376) GGGTTCACTT\n(253, 258) GATCA\n(159, 164) AACAT\nThe motif GGTGTGGGGGG does not exist\nNone"
      }
     ], 
     "prompt_number": 38
    }, 
    {
     "cell_type": "markdown", 
     "source": "d) Modify the function created in c), so that it can take a variable number of motifs as arguments and return a dictionary with the motifs as *keys*\nand the tuple with the positions as *values*."
    }, 
    {
     "cell_type": "code", 
     "collapsed": false, 
     "input": "def motif_finder2 (sequence,*motifs):\n    motifs_dic = {}\n    for motif in motifs:\n        motif,sequence = motif.upper(),sequence.upper()\n        start_position = sequence.find(motif)\n        if start_position >= 0:\n            end_position = sequence.find(motif)+len(motif)\n            motifs_dic[motif] = (start_position,end_position)\n        else:\n            motifs_dic[motif] = \"This motif does not exist\"\n    return motifs_dic\n\nmotifs = motif_finder2 (human_sequence,\"GGGTTCACTT\",\"GATCA\",\"AACAT\",\"GGTGTGGGGGG\")\n\nfor key,value in motifs.items():\n    print key, value", 
     "language": "python", 
     "outputs": [
      {
       "output_type": "stream", 
       "stream": "stdout", 
       "text": "GGGTTCACTT (366, 376)\nAACAT (159, 164)\nGATCA (253, 258)\nGGTGTGGGGGG This motif does not exist"
      }
     ], 
     "prompt_number": 44
    }, 
    {
     "cell_type": "markdown", 
     "source": "### Problem 2\n\nThe list blast_out from the examples module contains a short table of blast results in a simplified tabular format with the following fields per hit:\n\n***query sequence*** \\t ***subject sequence*** \\t ***identification percentage***  \\t ***e-value***\n\na) Define a function that returns a list containing only the blast hits with an e-value below $1 \\times 10^{-5}$. This e-value cut-off \nshould be the default, but the function must be flexible enough to be called with different cut-off values. (Tip: Python is able to recognize and\ninterpret numbers in scientific notation when converted with float(), e.g. float(1e-7))"
    }, 
    {
     "cell_type": "code", 
     "collapsed": false, 
     "input": "def blast_parser (blast_list,evalue_threshold=1e-5):\n    new_list = []\n    for hit in blast_list:\n        hit_fields = hit.split(\"\\t\")\n        evalue = hit_fields[3].strip(\"\\n\")\n        evalue = float(evalue)\n        if evalue <= evalue_threshold:\n            new_list.append(hit)\n        else:\n            pass\n    return new_list\n\nBlast_hits_1E7 = blast_parser (blast_out)\nprint Blast_hits_1E7", 
     "language": "python", 
     "outputs": [
      {
       "output_type": "stream", 
       "stream": "stdout", 
       "text": "['gnl|SpeciesA|80761\\tgnl|SpeciesC|BC1T_16434\\t77.78\\t3e-10\\n', 'gnl|SpeciesA|80761\\tgnl|SpeciesC|BC1T_16393\\t77.78\\t3e-10\\n', 'gnl|SpeciesA|80761\\tgnl|SpeciesC|BC1T_16317\\t77.78\\t3e-10\\n', 'gnl|SpeciesA|80761\\tgnl|SpeciesC|BC1T_16281\\t77.78\\t3e-10\\n', 'gnl|SpeciesA|80761\\tgnl|SpeciesC|BC1T_16230\\t77.78\\t3e-10\\n', 'gnl|SpeciesA|80761\\tgnl|SpeciesC|BC1T_16222\\t77.78\\t3e-10\\n', 'gnl|SpeciesA|80761\\tgnl|SpeciesC|BC1T_15965\\t77.78\\t3e-10\\n', 'gnl|SpeciesA|80761\\tgnl|SpeciesD|519876\\t79.49\\t1e-08\\n', 'gnl|SpeciesA|80761\\tgnl|SpeciesE|261677\\t81.58\\t3e-08\\n', 'gnl|SpeciesA|80761\\tgnl|SpeciesE|262161\\t81.58\\t3e-08\\n', 'gnl|SpeciesA|80761\\tgnl|SpeciesF|116518\\t100.00\\t5e-08\\n', 'gnl|SpeciesA|80761\\tgnl|SpeciesF|141299\\t100.00\\t9e-08\\n', 'gnl|SpeciesA|56811\\tgnl|SpeciesL|1074362\\t96.08\\t1e-20\\n', 'gnl|SpeciesA|56811\\tgnl|SpeciesN|176791\\t94.12\\t2e-20\\n', 'gnl|SpeciesA|56811\\tgnl|SpeciesO|161950\\t94.12\\t2e-20\\n', 'gnl|SpeciesA|56811\\tgnl|SpeciesQ|129871\\t94.12\\t2e-20\\n', 'gnl|SpeciesA|56811\\tgnl|SpeciesR|1115674\\t94.12\\t4e-20\\n', 'gnl|SpeciesA|56811\\tgnl|SpeciesI|128133\\t72.55\\t3e-12\\n', 'gnl|SpeciesA|56811\\tgnl|SpeciesD|519814\\t96.67\\t2e-09\\n', 'gnl|SpeciesA|56811\\tgnl|SpeciesT|137432\\t96.67\\t3e-09\\n', 'gnl|SpeciesA|56811\\tgnl|SpeciesR|1154051\\t93.33\\t9e-09\\n', 'gnl|SpeciesA|152866\\tgnl|SpeciesA|152866\\t100.00\\t6e-43\\n', 'gnl|SpeciesA|152867\\tgnl|SpeciesA|152867\\t100.00\\t2e-62\\n']"
      }
     ], 
     "prompt_number": 52
    }, 
    {
     "cell_type": "markdown", 
     "source": "b) Based on the list return by the function in a), define a function that sorts the blast hits according to their identification percentage\ninto three lists of high (100-90%), moderate (90-60%) and low (below 60%) identity percentage. Return those lists into separate variables and\ncalculate the number of hits in each identity percentage class."
    }, 
    {
     "cell_type": "code", 
     "collapsed": false, 
     "input": "def blast_parser2 (blast_list):\n    new_list,high_list,moderate_list,low_list = [],[],[],[]\n    for hit in blast_list:\n        hit_fields = hit.split(\"\\t\")\n        id_percentage = hit_fields[2].strip(\"\\n\")\n        id_percentage = float(id_percentage)\n        if id_percentage <= 60:\n            low_list.append(hit)\n        elif id_percentage > 60 and id_percentage <= 89:\n            moderate_list.append(hit)\n        elif id_percentage > 90:\n            high_list.append(hit)\n    return high_list, moderate_list, low_list\n\nhigh_list, moderate_list, low_list = blast_parser2 (Blast_hits_1E7)\nprint \"\"\"There are a total of %s hits in the original dataset:\n- %s hits presented high identity scores\n- %s hits presented moderate identity scores\n- %s hits presented low identity scores\n\"\"\" % (len(Blast_hits_1E7),len(high_list),len(moderate_list),len(low_list))", 
     "language": "python", 
     "outputs": [
      {
       "output_type": "stream", 
       "stream": "stdout", 
       "text": "There are a total of 23 hits in the original dataset:\n- 12 hits presented high identity scores\n- 11 hits presented moderate identity scores\n- 0 hits presented low identity scores\n"
      }
     ], 
     "prompt_number": 61
    }, 
    {
     "cell_type": "markdown", 
     "source": "c) Modify the function in a) so that it can take a file object as input, instead of a list."
    }, 
    {
     "cell_type": "code", 
     "collapsed": true, 
     "input": "# First method: Loads the whole file into the memory. Not recommended for very large files.\ndef blast_parser3 (blast_infile,evalue_threshold=1e-7):\n    infile = open(blast_infile)\n    blast_list = infile.readlines()\n    new_list = []\n    for hit in blast_list:\n        hit_fields = hit.split(\"\\t\")\n        evalue = hit_fields[3].strip(\"\\n\")\n        evalue = float(evalue)\n        if evalue =< evalue_threshold:\n            new_list.append(hit)\n        else:\n            pass\n    return new_list\n\n#Second method: Loads only one line of the file into the memory each time. Much more memory efficient but the loop can\n#only be performed once before the file object is exhausted. \ndef blast_parser4 (blast_infile,evalue_threshold=1e-7):\n    infile = open(blast_infile)\n    new_list = []\n    for hit in infile:\n        hit_fields = hit.split(\"\\t\")\n        evalue = hit_fields[3].strip(\"\\n\")\n        evalue = float(evalue)\n        if evalue =< evalue_threshold:\n            new_list.append(hit)\n        else:\n            pass\n    return new_list", 
     "language": "python", 
     "outputs": [], 
     "prompt_number": 44
    }, 
    {
     "cell_type": "markdown", 
     "source": "c) Open the \"blast_out.txt\" file in read mode and use the previous function to return a list of blast hits with e-values below \n$1 \\times 10^{-15}$. "
    }, 
    {
     "cell_type": "code", 
     "collapsed": false, 
     "input": "Blast_hits_1E5 = blast_parser3 (\"blast_out.txt\",evalue_threshold=1e-15)\nprint Blast_hits_1E5", 
     "language": "python", 
     "outputs": [
      {
       "output_type": "stream", 
       "stream": "stdout", 
       "text": "['gnl|SpeciesA|56811\\tgnl|SpeciesL|1074362\\t96.08\\t1e-20\\n', 'gnl|SpeciesA|56811\\tgnl|SpeciesN|176791\\t94.12\\t2e-20\\n', 'gnl|SpeciesA|56811\\tgnl|SpeciesO|161950\\t94.12\\t2e-20\\n', 'gnl|SpeciesA|56811\\tgnl|SpeciesQ|129871\\t94.12\\t2e-20\\n', 'gnl|SpeciesA|56811\\tgnl|SpeciesR|1115674\\t94.12\\t4e-20\\n', 'gnl|SpeciesA|152866\\tgnl|SpeciesA|152866\\t100.00\\t6e-43\\n', 'gnl|SpeciesA|152867\\tgnl|SpeciesA|152867\\t100.00\\t2e-62\\n']"
      }
     ], 
     "prompt_number": 47
    }, 
    {
     "cell_type": "markdown", 
     "source": "d) Create a script that includes the function defined in a). When executed through the terminal, the script should prompt the user for:\n\n- the path and filename of the blast output file that is going to be read\n- the desired e-value cutoff\n- the name of the output filename\n\nThe script must open and read the provided input file, and write all blast hits above the desired e-value cutoff to a new file with the \nname provided by the user."
    }, 
    {
     "cell_type": "code", 
     "collapsed": true, 
     "input": "#!/usr/bin/python\n\ninfile = raw_input(\"Please provide the path to the input file:\\n>\")\nevalue = input(\"Please provide the e-value cutoff:\\n>\")\noutfile = raw_input(\"Pleave provide the name of the output file:\\n>\")\n\ndef blast_parser5 (input_file,evalue_threshold,output_file):\n    infile = open(input_file)\n    outfile = open(output_file,\"w\")\n    new_list = []\n    for hit in infile:\n        hit_fields = hit.split(\"\\t\")\n        evalue = hit_fields[3].strip(\"\\n\")\n        evalue = float(evalue)\n        if evalue =< evalue_threshold:\n            outfile.write(hit)\n        else:\n            pass\n        \nblast_parser5 (infile,evalue,outfile)", 
     "language": "python", 
     "outputs": [
      {
       "ename": "EOFError", 
       "evalue": "EOF when reading a line", 
       "output_type": "pyerr", 
       "traceback": [
        "\u001b[0;31m---------------------------------------------------------------------------\u001b[0m\n\u001b[0;31mEOFError\u001b[0m                                  Traceback (most recent call last)", 
        "\u001b[0;32m/home/diogo/Diogo/Science/My_Courses/Python101_v1_2012/Practicals/<ipython-input-50-45912cce6039>\u001b[0m in \u001b[0;36m<module>\u001b[0;34m()\u001b[0m\n\u001b[1;32m      1\u001b[0m \u001b[0;31m#!/usr/bin/python\u001b[0m\n\u001b[0;34m\u001b[0m\u001b[0m\n\u001b[1;32m      2\u001b[0m \u001b[0;34m\u001b[0m\u001b[0m\n\u001b[0;32m----> 3\u001b[0;31m \u001b[0minfile\u001b[0m \u001b[0;34m=\u001b[0m \u001b[0minput\u001b[0m\u001b[0;34m(\u001b[0m\u001b[0;34m\"Please provide the path to the input file:\\n>\"\u001b[0m\u001b[0;34m)\u001b[0m\u001b[0;34m\u001b[0m\u001b[0m\n\u001b[0m", 
        "\u001b[0;31mEOFError\u001b[0m: EOF when reading a line"
       ]
      }, 
      {
       "output_type": "stream", 
       "stream": "stdout", 
       "text": "Please provide the path to the input file:\n>"
      }
     ], 
     "prompt_number": 50
    }, 
    {
     "cell_type": "markdown", 
     "source": "### Problem 3:\n\nUse python to open the \"My_fasta.fas\" file in read mode. \n\na) Define a function that returns a dictionary with the fasta headers as *keys* and their sequence as the corresponding *value*."
    }, 
    {
     "cell_type": "code", 
     "collapsed": false, 
     "input": "def fasta_parser (fasta_file):\n    fasta_dic = {}\n    infile = open(fasta_file)\n    for line in infile:\n        if line.startswith(\">\"):\n            header = line[1:].strip(\"\\n\")\n            fasta_dic[header] = \"\"\n        else:\n            fasta_dic[header] += line.strip(\"\\n\")\n    return fasta_dic\n\nfasta_dic = fasta_parser (\"My_fasta.fas\")", 
     "language": "python", 
     "outputs": [], 
     "prompt_number": 21
    }, 
    {
     "cell_type": "markdown", 
     "source": "b) Define a function that performs some quality checks for each sequence. Check if:\n\n- all sequences are of the same size. If not, the function should print a message informing which taxa have sequences of different length.\n- there are no illegal characters in each sequence. If there are, the function should print a message informing which taxon's sequence has problems\nand what is the illegal character. (Tip: Use the *IUPAC\\_codes* list from the *data* module to check for illegal characters)"
    }, 
    {
     "cell_type": "code", 
     "collapsed": false, 
     "input": "def quality_check (fasta_dic):\n    sequence_sizes = []\n    for taxon, sequence in fasta_dic.items():\n        if sequence_sizes == [] and len(sequence) not in sequence_sizes:\n            sequence_sizes.append(len(sequence))\n        elif sequence_sizes  != [] and len(sequence) not in sequence_sizes:\n            sequence_sizes.append(len(sequence))\n            print \"The taxon %s has a different sequence size: %s\" % (taxon,len(sequence))\n        for nucleotide in sequence:\n            if nucleotide not in IUPAC_codes:\n                print \"The taxon %s has an illegal character: %s\" % (taxon,nucleotide)\n\nquality_check (fasta_dic)", 
     "language": "python", 
     "outputs": [
      {
       "output_type": "stream", 
       "stream": "stdout", 
       "text": "The taxon Clupus_63137 has a different sequence size: 610"
      }
     ], 
     "prompt_number": 23
    }, 
    {
     "cell_type": "markdown", 
     "source": "c) Create a function that uses the dictionary created in a) and collapses taxa with identical sequences into the same haplotype. Write these unique\nhaplotypes to a new file (My_fasta_collapsed.fas) in fasta format, and write the correspondance between haplotype and taxon name in another file\n(My_haplotype_list.txt). "
    }, 
    {
     "cell_type": "code", 
     "collapsed": true, 
     "input": "def collapse_sequences (fasta_dic):\n    Collapsed_dic = {}\n    for taxon, sequence in fasta_dic.items():\n        if sequence in Collapsed_dic:\n            Collapsed_dic[sequence] += \"%s; \" % (taxon)\n        else:\n            Collapsed_dic[sequence] = taxon+\"; \"\n    return Collapsed_dic\n\ndef file_writer (sequence_dic,sequence_outfile,haplotype_outfile):\n    outfile_fasta = open(sequence_outfile,\"w\")\n    outfile_haplotypes = open(haplotype_outfile,\"w\")\n    Haplotype = 1\n    for sequence, taxa in sequence_dic.items():\n        outfile_fasta.write(\">Haplotype%s\\n%s\\n\" % (Haplotype,sequence))\n        outfile_haplotypes.write(\"Haplotype %s: %s \\n)\" % (Haplotype,taxa))\n        Haplotype += 1\n        \ncollapsed_dic = collapse_sequences (fasta_dic)\nfile_writer (collapsed_dic,\"My_fasta_collapsed.fas\",\"My_haplotype_list.txt\")", 
     "language": "python", 
     "outputs": [
      {
       "output_type": "stream", 
       "stream": "stdout", 
       "text": "1\n2\n3\n4\n5\n6\n7\n8\n9"
      }
     ], 
     "prompt_number": 35
    }
   ]
  }
 ]
}