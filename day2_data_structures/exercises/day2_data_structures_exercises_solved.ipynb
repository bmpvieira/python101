{
 "metadata": {
  "name": "day2_data_structures_solved"
 }, 
 "name": "day2_data_structures_solved", 
 "nbformat": 2, 
 "worksheets": [
  {
   "cells": [
    {
     "cell_type": "markdown", 
     "source": "## Day 2: Data structures\n\nLet's start by importing the **data** module"
    }, 
    {
     "cell_type": "code", 
     "collapsed": true, 
     "input": "from data import DNA_Sequence,human_sequence,Species_list,sequences", 
     "language": "python", 
     "outputs": [], 
     "prompt_number": 13
    }, 
    {
     "cell_type": "markdown", 
     "source": "### Problem 1\n\nThe *DNA_Sequence* variable imported from the **data** module contains DNA sequence\n\na) Print the **DNA_Sequence** variable"
    }, 
    {
     "cell_type": "code", 
     "collapsed": false, 
     "input": "print DNA_Sequence", 
     "language": "python", 
     "outputs": [
      {
       "output_type": "stream", 
       "stream": "stdout", 
       "text": "GTAGCTGATGCTAGCTGTGATTATTCGTACGATTTGTCGTAGTGTCGTATGCGTAGCTGATGCGTAT"
      }
     ], 
     "prompt_number": 4
    }, 
    {
     "cell_type": "markdown", 
     "source": "b) Print the length of the **DNA_Sequence** variable"
    }, 
    {
     "cell_type": "code", 
     "collapsed": false, 
     "input": "len(DNA_Sequence)", 
     "language": "python", 
     "outputs": [
      {
       "output_type": "pyout", 
       "prompt_number": 5, 
       "text": "67"
      }
     ], 
     "prompt_number": 5
    }, 
    {
     "cell_type": "markdown", 
     "source": "c) Count (with a method) the number of \"A\", \"C\", \"T\", and \"G\" nucleotides in the **DNA_Sequence** variable and assign each one to a different variable (e.g, assign the number of \"A\"s to a variable named a_count, etc) and then print each variable"
    }, 
    {
     "cell_type": "code", 
     "collapsed": false, 
     "input": "a_count = DNA_Sequence.count('A')\nb_count = DNA_Sequence.count('C')\nc_count = DNA_Sequence.count('T')\nd_count = DNA_Sequence.count('G')\nprint a_count\nprint b_count\nprint c_count\nprint d_count", 
     "language": "python", 
     "outputs": [
      {
       "output_type": "stream", 
       "stream": "stdout", 
       "text": "12\n10\n25\n20"
      }
     ], 
     "prompt_number": 10
    }, 
    {
     "cell_type": "markdown", 
     "source": "d) Transcribe the **DNA_Sequence** and assign it to a new variable. Print the new variable.\n\n(Tip: replace the \"T\" nucleotides for \"U\" nucleotides)"
    }, 
    {
     "cell_type": "code", 
     "collapsed": false, 
     "input": "RNA_sequence = DNA_Sequence.replace(\"T\", \"U\")\nprint RNA_sequence", 
     "language": "python", 
     "outputs": [
      {
       "output_type": "stream", 
       "stream": "stdout", 
       "text": "GUAGCUGAUGCUAGCUGUGAUUAUUCGUACGAUUUGUCGUAGUGUCGUAUGCGUAGCUGAUGCGUAU"
      }
     ], 
     "prompt_number": 15
    }, 
    {
     "cell_type": "markdown", 
     "source": "e) Split the **DNA_Sequence** at each \"GAT\" motif and store the resulting list in a new variable. Determine the number of the resulting fragments. Print the result.\n\n(Tip: Determine the length of the resulting list of fragments to get the number of fragments)"
    }, 
    {
     "cell_type": "code", 
     "collapsed": false, 
     "input": "mylist = DNA_Sequence.split(\"GAT\")\nprint len(mylist)", 
     "language": "python", 
     "outputs": [
      {
       "output_type": "stream", 
       "stream": "stdout", 
       "text": "5"
      }
     ], 
     "prompt_number": 21
    }, 
    {
     "cell_type": "markdown", 
     "source": "f) Merge the first and last fragments of the list resulted from e) and store it in a new variable. Print the new variable."
    }, 
    {
     "cell_type": "code", 
     "collapsed": false, 
     "input": "new_seq = mylist[0] + mylist[-1]\nprint new_seq", 
     "language": "python", 
     "outputs": [
      {
       "output_type": "stream", 
       "stream": "stdout", 
       "text": "GTAGCTGCGTAT"
      }
     ], 
     "prompt_number": 25
    }, 
    {
     "cell_type": "markdown", 
     "source": "## Problem 2\n\nThe **human_sequence** variable imported from the **data** module contains a human DNA sequence\n\na) Print the **human_sequence** variable"
    }, 
    {
     "cell_type": "code", 
     "collapsed": false, 
     "input": "print human_sequence", 
     "language": "python", 
     "outputs": [
      {
       "output_type": "stream", 
       "stream": "stdout", 
       "text": "-------------CCCACGCGTCCGCGGACGCGTGGGCGTACGCGTGGGCGGACGCGTGGGAAGAAATCTTAGACAAAAAAGTTGAGAAAGTTGCTGTATCAAATCGGTTGGTTGATTCACCATGTTGTATCGTTACAAGCACCTATGGTTGGTCTGCCAACATGGAGCGTATTATGAAAGCACAAGCTCTAAGAGATTCCAGTACCATGGG----TTACATGGCTGCCAAAAAACATTTAGAAATCAATCCTGATCATCAAATTATGATCGCATTGAAAAAGAAAGTTGAAGCTGACAAAAATGATAAATCAATCAAAGATTTGATTGTTCTGCTTTATGA-----AACATCATTGTTGTCGTCTGGGTTCACTTTGGAAGACCCACAGAATCATGCATCTAGAAT------TCACAGAATGATCAAATTAGGACTTGGTGTAGATGATGAGCCAGTTGCTGAAGAAATCGACACTGGTGATATGCCACCACTGGAAGGTGATGCTGCAGAAGATGAGGACAAAGCCAGAATGGAAGAAGTAGATTAAAGTCAAC----TTGAAAACTTATGGCAATAGTAATGGAGACTCAAAATTGAGTTGCAGTTTGGCACACATTCGAGCGATGTTTGATAGGAACTGAATAAGATTGCATACAGCGTTAATG------"
      }
     ], 
     "prompt_number": 26
    }, 
    {
     "cell_type": "markdown", 
     "source": "b) Notice that both ends of the sequence contain gaps \"-\". Eliminate the gaps from boths ends of the sequence, and assign the resulting sequence to a new variable. Print the result."
    }, 
    {
     "cell_type": "code", 
     "collapsed": false, 
     "input": "clean_seq = human_sequence.strip(\"-\")\nprint clean_seq", 
     "language": "python", 
     "outputs": [
      {
       "output_type": "stream", 
       "stream": "stdout", 
       "text": "CCCACGCGTCCGCGGACGCGTGGGCGTACGCGTGGGCGGACGCGTGGGAAGAAATCTTAGACAAAAAAGTTGAGAAAGTTGCTGTATCAAATCGGTTGGTTGATTCACCATGTTGTATCGTTACAAGCACCTATGGTTGGTCTGCCAACATGGAGCGTATTATGAAAGCACAAGCTCTAAGAGATTCCAGTACCATGGG----TTACATGGCTGCCAAAAAACATTTAGAAATCAATCCTGATCATCAAATTATGATCGCATTGAAAAAGAAAGTTGAAGCTGACAAAAATGATAAATCAATCAAAGATTTGATTGTTCTGCTTTATGA-----AACATCATTGTTGTCGTCTGGGTTCACTTTGGAAGACCCACAGAATCATGCATCTAGAAT------TCACAGAATGATCAAATTAGGACTTGGTGTAGATGATGAGCCAGTTGCTGAAGAAATCGACACTGGTGATATGCCACCACTGGAAGGTGATGCTGCAGAAGATGAGGACAAAGCCAGAATGGAAGAAGTAGATTAAAGTCAAC----TTGAAAACTTATGGCAATAGTAATGGAGACTCAAAATTGAGTTGCAGTTTGGCACACATTCGAGCGATGTTTGATAGGAACTGAATAAGATTGCATACAGCGTTAATG"
      }
     ], 
     "prompt_number": 28
    }, 
    {
     "cell_type": "markdown", 
     "source": "c) Change the capitalization of the **human_sequence** variable and print"
    }, 
    {
     "cell_type": "code", 
     "collapsed": false, 
     "input": "print human_sequence.lower()", 
     "language": "python", 
     "outputs": [
      {
       "output_type": "stream", 
       "stream": "stdout", 
       "text": "-------------cccacgcgtccgcggacgcgtgggcgtacgcgtgggcggacgcgtgggaagaaatcttagacaaaaaagttgagaaagttgctgtatcaaatcggttggttgattcaccatgttgtatcgttacaagcacctatggttggtctgccaacatggagcgtattatgaaagcacaagctctaagagattccagtaccatggg----ttacatggctgccaaaaaacatttagaaatcaatcctgatcatcaaattatgatcgcattgaaaaagaaagttgaagctgacaaaaatgataaatcaatcaaagatttgattgttctgctttatga-----aacatcattgttgtcgtctgggttcactttggaagacccacagaatcatgcatctagaat------tcacagaatgatcaaattaggacttggtgtagatgatgagccagttgctgaagaaatcgacactggtgatatgccaccactggaaggtgatgctgcagaagatgaggacaaagccagaatggaagaagtagattaaagtcaac----ttgaaaacttatggcaatagtaatggagactcaaaattgagttgcagtttggcacacattcgagcgatgtttgataggaactgaataagattgcatacagcgttaatg------"
      }
     ], 
     "prompt_number": 29
    }, 
    {
     "cell_type": "markdown", 
     "source": "## Problem 3\n\nThe **Species_list** variable imported from the **data** module contains a list with species names.\n\na) Determine the number of species in **Species_list** and print it."
    }, 
    {
     "cell_type": "code", 
     "collapsed": false, 
     "input": "print len(Species_list)", 
     "language": "python", 
     "outputs": [
      {
       "output_type": "stream", 
       "stream": "stdout", 
       "text": "7"
      }
     ], 
     "prompt_number": 30
    }, 
    {
     "cell_type": "markdown", 
     "source": "b) Sort the **Species_list** variable by alphabetical order and print."
    }, 
    {
     "cell_type": "code", 
     "collapsed": false, 
     "input": "Species_list.sort()\nprint Species_list", 
     "language": "python", 
     "outputs": [
      {
       "output_type": "stream", 
       "stream": "stdout", 
       "text": "['B_bufo', 'B_taurus', 'C_albicans', 'C_felix', 'H_sapiens', 'M_musculus', 'V_vulpes']"
      }
     ], 
     "prompt_number": 41
    }, 
    {
     "cell_type": "markdown", 
     "source": "c) Change the \"C_albicans\" entry by a new species: \"D_melanogaster\". Print Species_list."
    }, 
    {
     "cell_type": "code", 
     "collapsed": false, 
     "input": "Species_list[2] = \"D_melanogaster\"\nprint Species_list", 
     "language": "python", 
     "outputs": [
      {
       "output_type": "stream", 
       "stream": "stdout", 
       "text": "['B_bufo', 'B_taurus', 'D_melanogaster', 'C_felix', 'H_sapiens', 'M_musculus', 'V_vulpes']"
      }
     ], 
     "prompt_number": 42
    }, 
    {
     "cell_type": "markdown", 
     "source": "d) Store the first 3 species of the **Species_list** list in a new variable: \"First_species\" and print."
    }, 
    {
     "cell_type": "code", 
     "collapsed": false, 
     "input": "First_species = Species_list[:3]\nprint First_species", 
     "language": "python", 
     "outputs": [
      {
       "output_type": "stream", 
       "stream": "stdout", 
       "text": "['B_bufo', 'B_taurus', 'D_melanogaster']"
      }
     ], 
     "prompt_number": 44
    }, 
    {
     "cell_type": "markdown", 
     "source": "e) Create a new empty list and add the following species as entries: \"C_kahawae\",\"Q_suber\",\"L_lepida\""
    }, 
    {
     "cell_type": "code", 
     "collapsed": false, 
     "input": "new_species = []\nnew_species.append(\"C_kahawae\")\nnew_species[1:3]= [\"Q_suber\",\"L_lepida\"]\nprint new_species", 
     "language": "python", 
     "outputs": [
      {
       "output_type": "stream", 
       "stream": "stdout", 
       "text": "['C_kahawae', 'Q_suber', 'L_lepida']"
      }
     ], 
     "prompt_number": 46
    }, 
    {
     "cell_type": "markdown", 
     "source": "## Problem 4\n\na) Create a new string variable composed of 100 \"N\" characters"
    }, 
    {
     "cell_type": "code", 
     "collapsed": false, 
     "input": "junk = \"N\" * 100\nprint junk", 
     "language": "python", 
     "outputs": [
      {
       "output_type": "stream", 
       "stream": "stdout", 
       "text": "NNNNNNNNNNNNNNNNNNNNNNNNNNNNNNNNNNNNNNNNNNNNNNNNNNNNNNNNNNNNNNNNNNNNNNNNNNNNNNNNNNNNNNNNNNNNNNNNNNNN"
      }
     ], 
     "prompt_number": 48
    }, 
    {
     "cell_type": "markdown", 
     "source": "b) Create two new number variables with the numbers 23 and 323. Determine their sum, difference, division and multiplication"
    }, 
    {
     "cell_type": "code", 
     "collapsed": false, 
     "input": "a = 23\nb = 323\nprint a + b\nprint a - b\nprint a / b\nprint a * b", 
     "language": "python", 
     "outputs": [
      {
       "output_type": "stream", 
       "stream": "stdout", 
       "text": "346\n-300\n0\n7429"
      }
     ], 
     "prompt_number": 49
    }, 
    {
     "cell_type": "markdown", 
     "source": "c) Notice that the division of 23 by 323 results in \"0\". Convert both numbers into floating point variables and repeat the division"
    }, 
    {
     "cell_type": "code", 
     "collapsed": false, 
     "input": "a = 23.\nb = float(b)\nprint a / b", 
     "language": "python", 
     "outputs": [
      {
       "output_type": "stream", 
       "stream": "stdout", 
       "text": "0.0712074303406"
      }
     ], 
     "prompt_number": 50
    }, 
    {
     "cell_type": "markdown", 
     "source": "## Problem 5\n\nThe **sequences** variable contains a dictionary with taxon name as keys, and their DNA sequence of the Cytb gene as values.\n\na) Determine the number of taxa contained in the dictionary"
    }, 
    {
     "cell_type": "code", 
     "collapsed": false, 
     "input": "print len(sequences)", 
     "language": "python", 
     "outputs": [
      {
       "output_type": "stream", 
       "stream": "stdout", 
       "text": "37"
      }
     ], 
     "prompt_number": 53
    }, 
    {
     "cell_type": "markdown", 
     "source": "b) Print both the taxon name and sequence of the 3\u00ba, 5\u00ba and 7\u00ba dictionary item. "
    }, 
    {
     "cell_type": "code", 
     "collapsed": false, 
     "input": "third = sequences.keys()[2]\nfifth = sequences.keys()[4]\nseventh = sequences.keys()[6]\nprint third + \" \" + sequences[third]\nprint fifth + \" \" + sequences[fifth]\nprint seventh + \" \" + sequences[seventh]", 
     "language": "python", 
     "outputs": [
      {
       "output_type": "stream", 
       "stream": "stdout", 
       "text": "Mo10 GGACTGTGCCTAATTACTCAAATTGTTACAGGGTTATTTTTAGCAATACACTACAATGCAGATATTAACTCCGCATTCTCATCAGTAGCACACATTCACCGTGATGTCCAACATGGCTGACTTATCCGAAATATCCATGCTAACGGCGCATCACTATTCTTTATTTGCATTTATATGCACATCGGACGGGGCCTATACTATGGATCCTACTTATTTACTGAAACATGGAACATTGGAGTACTACTTCTCCTCTTAGTAATAGCCACAGCCTTCATAGGTTATGTCCTCCCATGAGGACAAATATCGTTTTGAGGTGCCACCGTCATTACTAACCTTTTATCTGCCATCCCATACATTGGAAACACCCTAGTTGAGTGAGTTTGAGGTGGATTCGCAATTGATAACGCAACACTAACTCGATTCTTCACGCTACATTTCCTCCTACCCTTTCTGATCTTAGGAGCATCATTAATTCACCTAATATTTCTACACGAAACAGGATCAAACAACCCTACAGGACTAAACTCAAACTCAGATAAAATCCCATTCCACCCATACTACTCATATAAAGACGCCCTTGGAGCCCTATTATTCATAACCCTACTCTTGTACCTATCACTATTCTCTCCATTACTCCTAGGAGACCCAGAAAACTTTA\nIb9 GGATTGTGCCTAATTACTCAAATTGTTACAGGATTATTTTTAGCAATACACTACAATGCAGATATTAACTCCGCATTCTCATCAGTAGCACACATTCACCGCGATGTCCAATACGGCTGACTTATCCGAAATATTCATGCTAACGGCGCATCACTATTCTTCATTTGCATCTATATGCATATCGGACGGGGCCTATACTATGGATCCTACTTATTTACTGAAACATGAAACATTGGAGTACTACTTCTCCTCTTAGTAATAGCCACAGCCTTCATAGGTTATGTCCTTCCATGAGGACAAATATCATTCTGAGGGGCCACCGTCATTACTAACCTTTTATCTGCCATCCCATACATTGGAAACACCTTGGTTGAGTGAGTCTGAGGTGGATTCGCAATTGATAACGCAACACTAACTCGATTCTTCACACTACATTTCCTCCTACCCTTTTTAATTTTAGGGACATCACTAATACACCTAATATTTTTACACGAAACAGGGTCAAACAACCCAACAGGGTTAAACTCAAACTCAGATAAAATCCCGTTCCACCCATACTACTCATATAAAGACGCCCTTGGAGCCCTATTATTTATAACCCTACTCTTATACCTCTCACTATTTTCCCCATTGCTCCTAGGAGACCCAGAAAACTTCA\nIb17 GGATTGTGCCTAATTACTCAAATTGTTACAGGATTATTTTTAGCAATACACTACAATGCAGATATTAACTCCGCATTCTCATCAGTAGCACACATTCACCGCGATGTCCAATATGGCTGACTTATCCGAAATATTCATGCTAACGGCGCATCACTATTCTTCATTTGCATCTATATGCATATCGGACGGGGCCTATACTATGGATCCTACTTATTTACTGAAACATGAAACATTGGAGTACTACTTCTCCTCTTAGTAATAGCCACAGCCTTCATAGGTTATGTCCTTCCATGAGGACAAATATCATTCTGAGGGGCCACCGTCATTACTAACCTTTTATCTGCCATCCCATACATTGGAAACACCTTGGTTGAGTGAGTCTGAGGTGGATTCGCAATTGATAACGCAACACTAACTCGATTCTTCACACTACATTTCCTCCTACCCTTTTTAATTTTAGGAACATCACTAATACACCTAATATTTTTACACGAAACAGGATCAAACAACCCAACAGGGTTAAACTCAAACTCAGATAAAATCCCGTTCCACCCATACTACTCATACAAAGACGCCCTTGGAGCCCTATTATTTATAACCCTACTCTTATACCTCTCACTATTTTCCCCATTGCTCCTAGGAGACCCAGAAAACTTCA"
      }
     ], 
     "prompt_number": 61
    }, 
    {
     "cell_type": "code", 
     "collapsed": true, 
     "input": "", 
     "language": "python", 
     "outputs": []
    }
   ]
  }
 ]
}