{
 "metadata": {
  "name": ""
 },
 "nbformat": 3,
 "nbformat_minor": 0,
 "worksheets": [
  {
   "cells": [
    {
     "cell_type": "markdown",
     "metadata": {},
     "source": [
      "## Day 2: Data structures\n",
      "\n",
      "Let's start by importing the **data** module"
     ]
    },
    {
     "cell_type": "code",
     "collapsed": true,
     "input": [
      "from data import DNA_Sequence,human_sequence,Species_list,sequences"
     ],
     "language": "python",
     "metadata": {},
     "outputs": [],
     "prompt_number": 2
    },
    {
     "cell_type": "markdown",
     "metadata": {},
     "source": [
      "### Problem 1\n",
      "\n",
      "The *DNA_Sequence* variable imported from the **data** module contains DNA sequence\n",
      "\n",
      "a) Print the **DNA_Sequence** variable"
     ]
    },
    {
     "cell_type": "code",
     "collapsed": false,
     "input": [
      "print DNA_Sequence"
     ],
     "language": "python",
     "metadata": {},
     "outputs": [
      {
       "output_type": "stream",
       "stream": "stdout",
       "text": [
        "GTAGCTGATGCTAGCTGTGATTATTCGTACGATTTGTCGTAGTGTCGTATGCGTAGCTGATGCGTAT"
       ]
      }
     ],
     "prompt_number": 4
    },
    {
     "cell_type": "markdown",
     "metadata": {},
     "source": [
      "b) Print the length of the **DNA_Sequence** variable"
     ]
    },
    {
     "cell_type": "code",
     "collapsed": false,
     "input": [
      "len(DNA_Sequence)"
     ],
     "language": "python",
     "metadata": {},
     "outputs": [
      {
       "output_type": "pyout",
       "prompt_number": 5,
       "text": [
        "67"
       ]
      }
     ],
     "prompt_number": 5
    },
    {
     "cell_type": "markdown",
     "metadata": {},
     "source": [
      "c) Count (with a method) the number of \"A\", \"C\", \"T\", and \"G\" nucleotides in the **DNA_Sequence** variable and assign each one to a different variable (e.g, assign the number of \"A\"s to a variable named a_count, etc) and then print each variable"
     ]
    },
    {
     "cell_type": "code",
     "collapsed": false,
     "input": [
      "a_count = DNA_Sequence.count('A')\n",
      "b_count = DNA_Sequence.count('C')\n",
      "c_count = DNA_Sequence.count('T')\n",
      "d_count = DNA_Sequence.count('G')\n",
      "print a_count\n",
      "print b_count\n",
      "print c_count\n",
      "print d_count"
     ],
     "language": "python",
     "metadata": {},
     "outputs": [
      {
       "output_type": "stream",
       "stream": "stdout",
       "text": [
        "12\n",
        "10\n",
        "25\n",
        "20"
       ]
      }
     ],
     "prompt_number": 10
    },
    {
     "cell_type": "markdown",
     "metadata": {},
     "source": [
      "d) Transcribe the **DNA_Sequence** and assign it to a new variable. Print the new variable.\n",
      "\n",
      "(Tip: replace the \"T\" nucleotides for \"U\" nucleotides)"
     ]
    },
    {
     "cell_type": "code",
     "collapsed": false,
     "input": [
      "RNA_sequence = DNA_Sequence.replace(\"T\", \"U\")\n",
      "print RNA_sequence"
     ],
     "language": "python",
     "metadata": {},
     "outputs": [
      {
       "output_type": "stream",
       "stream": "stdout",
       "text": [
        "GUAGCUGAUGCUAGCUGUGAUUAUUCGUACGAUUUGUCGUAGUGUCGUAUGCGUAGCUGAUGCGUAU"
       ]
      }
     ],
     "prompt_number": 15
    },
    {
     "cell_type": "markdown",
     "metadata": {},
     "source": [
      "e) Split the **DNA_Sequence** at each \"GAT\" motif and store the resulting list in a new variable. Determine the number of the resulting fragments. Print the result.\n",
      "\n",
      "(Tip: Determine the length of the resulting list of fragments to get the number of fragments)"
     ]
    },
    {
     "cell_type": "code",
     "collapsed": false,
     "input": [
      "mylist = DNA_Sequence.split(\"GAT\")\n",
      "print len(mylist)"
     ],
     "language": "python",
     "metadata": {},
     "outputs": [
      {
       "output_type": "stream",
       "stream": "stdout",
       "text": [
        "5"
       ]
      }
     ],
     "prompt_number": 21
    },
    {
     "cell_type": "markdown",
     "metadata": {},
     "source": [
      "f) Merge the first and last fragments of the list resulted from e) and store it in a new variable. Print the new variable."
     ]
    },
    {
     "cell_type": "code",
     "collapsed": false,
     "input": [
      "new_seq = mylist[0] + mylist[-1]\n",
      "print new_seq"
     ],
     "language": "python",
     "metadata": {},
     "outputs": [
      {
       "output_type": "stream",
       "stream": "stdout",
       "text": [
        "GTAGCTGCGTAT"
       ]
      }
     ],
     "prompt_number": 25
    },
    {
     "cell_type": "markdown",
     "metadata": {},
     "source": [
      "## Problem 2\n",
      "\n",
      "The **human_sequence** variable imported from the **data** module contains a human DNA sequence\n",
      "\n",
      "a) Print the **human_sequence** variable"
     ]
    },
    {
     "cell_type": "code",
     "collapsed": false,
     "input": [
      "print human_sequence"
     ],
     "language": "python",
     "metadata": {},
     "outputs": [
      {
       "output_type": "stream",
       "stream": "stdout",
       "text": [
        "-------------CCCACGCGTCCGCGGACGCGTGGGCGTACGCGTGGGCGGACGCGTGGGAAGAAATCTTAGACAAAAAAGTTGAGAAAGTTGCTGTATCAAATCGGTTGGTTGATTCACCATGTTGTATCGTTACAAGCACCTATGGTTGGTCTGCCAACATGGAGCGTATTATGAAAGCACAAGCTCTAAGAGATTCCAGTACCATGGG----TTACATGGCTGCCAAAAAACATTTAGAAATCAATCCTGATCATCAAATTATGATCGCATTGAAAAAGAAAGTTGAAGCTGACAAAAATGATAAATCAATCAAAGATTTGATTGTTCTGCTTTATGA-----AACATCATTGTTGTCGTCTGGGTTCACTTTGGAAGACCCACAGAATCATGCATCTAGAAT------TCACAGAATGATCAAATTAGGACTTGGTGTAGATGATGAGCCAGTTGCTGAAGAAATCGACACTGGTGATATGCCACCACTGGAAGGTGATGCTGCAGAAGATGAGGACAAAGCCAGAATGGAAGAAGTAGATTAAAGTCAAC----TTGAAAACTTATGGCAATAGTAATGGAGACTCAAAATTGAGTTGCAGTTTGGCACACATTCGAGCGATGTTTGATAGGAACTGAATAAGATTGCATACAGCGTTAATG------"
       ]
      }
     ],
     "prompt_number": 26
    },
    {
     "cell_type": "markdown",
     "metadata": {},
     "source": [
      "b) Notice that both ends of the sequence contain gaps \"-\". Eliminate the gaps from boths ends of the sequence, and assign the resulting sequence to a new variable. Print the result."
     ]
    },
    {
     "cell_type": "code",
     "collapsed": false,
     "input": [
      "clean_seq = human_sequence.strip(\"-\")\n",
      "print clean_seq"
     ],
     "language": "python",
     "metadata": {},
     "outputs": [
      {
       "output_type": "stream",
       "stream": "stdout",
       "text": [
        "CCCACGCGTCCGCGGACGCGTGGGCGTACGCGTGGGCGGACGCGTGGGAAGAAATCTTAGACAAAAAAGTTGAGAAAGTTGCTGTATCAAATCGGTTGGTTGATTCACCATGTTGTATCGTTACAAGCACCTATGGTTGGTCTGCCAACATGGAGCGTATTATGAAAGCACAAGCTCTAAGAGATTCCAGTACCATGGG----TTACATGGCTGCCAAAAAACATTTAGAAATCAATCCTGATCATCAAATTATGATCGCATTGAAAAAGAAAGTTGAAGCTGACAAAAATGATAAATCAATCAAAGATTTGATTGTTCTGCTTTATGA-----AACATCATTGTTGTCGTCTGGGTTCACTTTGGAAGACCCACAGAATCATGCATCTAGAAT------TCACAGAATGATCAAATTAGGACTTGGTGTAGATGATGAGCCAGTTGCTGAAGAAATCGACACTGGTGATATGCCACCACTGGAAGGTGATGCTGCAGAAGATGAGGACAAAGCCAGAATGGAAGAAGTAGATTAAAGTCAAC----TTGAAAACTTATGGCAATAGTAATGGAGACTCAAAATTGAGTTGCAGTTTGGCACACATTCGAGCGATGTTTGATAGGAACTGAATAAGATTGCATACAGCGTTAATG"
       ]
      }
     ],
     "prompt_number": 28
    },
    {
     "cell_type": "markdown",
     "metadata": {},
     "source": [
      "c) Change the capitalization of the **human_sequence** variable and print it"
     ]
    },
    {
     "cell_type": "code",
     "collapsed": false,
     "input": [
      "print human_sequence.lower()"
     ],
     "language": "python",
     "metadata": {},
     "outputs": [
      {
       "output_type": "stream",
       "stream": "stdout",
       "text": [
        "-------------cccacgcgtccgcggacgcgtgggcgtacgcgtgggcggacgcgtgggaagaaatcttagacaaaaaagttgagaaagttgctgtatcaaatcggttggttgattcaccatgttgtatcgttacaagcacctatggttggtctgccaacatggagcgtattatgaaagcacaagctctaagagattccagtaccatggg----ttacatggctgccaaaaaacatttagaaatcaatcctgatcatcaaattatgatcgcattgaaaaagaaagttgaagctgacaaaaatgataaatcaatcaaagatttgattgttctgctttatga-----aacatcattgttgtcgtctgggttcactttggaagacccacagaatcatgcatctagaat------tcacagaatgatcaaattaggacttggtgtagatgatgagccagttgctgaagaaatcgacactggtgatatgccaccactggaaggtgatgctgcagaagatgaggacaaagccagaatggaagaagtagattaaagtcaac----ttgaaaacttatggcaatagtaatggagactcaaaattgagttgcagtttggcacacattcgagcgatgtttgataggaactgaataagattgcatacagcgttaatg------"
       ]
      }
     ],
     "prompt_number": 29
    },
    {
     "cell_type": "markdown",
     "metadata": {},
     "source": [
      "## Problem 3\n",
      "\n",
      "The **Species_list** variable imported from the **data** module contains a list with species names.\n",
      "\n",
      "a) Determine the number of species in **Species_list** and print it."
     ]
    },
    {
     "cell_type": "code",
     "collapsed": false,
     "input": [
      "print len(Species_list)"
     ],
     "language": "python",
     "metadata": {},
     "outputs": [
      {
       "output_type": "stream",
       "stream": "stdout",
       "text": [
        "7"
       ]
      }
     ],
     "prompt_number": 30
    },
    {
     "cell_type": "markdown",
     "metadata": {},
     "source": [
      "b) Sort the **Species_list** variable by alphabetical order and print."
     ]
    },
    {
     "cell_type": "code",
     "collapsed": false,
     "input": [
      "Species_list.sort()\n",
      "print Species_list"
     ],
     "language": "python",
     "metadata": {},
     "outputs": [
      {
       "output_type": "stream",
       "stream": "stdout",
       "text": [
        "['B_bufo', 'B_taurus', 'C_albicans', 'C_felix', 'H_sapiens', 'M_musculus', 'V_vulpes']"
       ]
      }
     ],
     "prompt_number": 41
    },
    {
     "cell_type": "markdown",
     "metadata": {},
     "source": [
      "c) Change the \"C_albicans\" entry with a new species: \"D_melanogaster\". Print Species_list."
     ]
    },
    {
     "cell_type": "code",
     "collapsed": false,
     "input": [
      "Species_list[2] = \"D_melanogaster\"\n",
      "print Species_list"
     ],
     "language": "python",
     "metadata": {},
     "outputs": [
      {
       "output_type": "stream",
       "stream": "stdout",
       "text": [
        "['B_bufo', 'B_taurus', 'D_melanogaster', 'C_felix', 'H_sapiens', 'M_musculus', 'V_vulpes']"
       ]
      }
     ],
     "prompt_number": 42
    },
    {
     "cell_type": "markdown",
     "metadata": {},
     "source": [
      "d) Store the first 3 species of the **Species_list** list in a new variable: \"First_species\" and print."
     ]
    },
    {
     "cell_type": "code",
     "collapsed": false,
     "input": [
      "First_species = Species_list[:3]\n",
      "print First_species"
     ],
     "language": "python",
     "metadata": {},
     "outputs": [
      {
       "output_type": "stream",
       "stream": "stdout",
       "text": [
        "['B_bufo', 'B_taurus', 'D_melanogaster']"
       ]
      }
     ],
     "prompt_number": 44
    },
    {
     "cell_type": "markdown",
     "metadata": {},
     "source": [
      "e) Create a new empty list and add the following species as entries: \"C_kahawae\",\"Q_suber\",\"L_lepida\""
     ]
    },
    {
     "cell_type": "code",
     "collapsed": false,
     "input": [
      "new_species = []\n",
      "new_species.append(\"C_kahawae\")\n",
      "new_species[1:3]= [\"Q_suber\",\"L_lepida\"]\n",
      "print new_species"
     ],
     "language": "python",
     "metadata": {},
     "outputs": [
      {
       "output_type": "stream",
       "stream": "stdout",
       "text": [
        "['C_kahawae', 'Q_suber', 'L_lepida']"
       ]
      }
     ],
     "prompt_number": 46
    },
    {
     "cell_type": "markdown",
     "metadata": {},
     "source": [
      "## Problem 4\n",
      "\n",
      "a) Create a new string variable composed of 100 \"N\" characters"
     ]
    },
    {
     "cell_type": "code",
     "collapsed": false,
     "input": [
      "junk = \"N\" * 100\n",
      "print junk"
     ],
     "language": "python",
     "metadata": {},
     "outputs": [
      {
       "output_type": "stream",
       "stream": "stdout",
       "text": [
        "NNNNNNNNNNNNNNNNNNNNNNNNNNNNNNNNNNNNNNNNNNNNNNNNNNNNNNNNNNNNNNNNNNNNNNNNNNNNNNNNNNNNNNNNNNNNNNNNNNNN"
       ]
      }
     ],
     "prompt_number": 48
    },
    {
     "cell_type": "markdown",
     "metadata": {},
     "source": [
      "b) Create two new number variables with the numbers 23 and 323. Determine their sum, difference, division and multiplication"
     ]
    },
    {
     "cell_type": "code",
     "collapsed": false,
     "input": [
      "a = 23\n",
      "b = 323\n",
      "print a + b\n",
      "print a - b\n",
      "print a / b\n",
      "print a * b"
     ],
     "language": "python",
     "metadata": {},
     "outputs": [
      {
       "output_type": "stream",
       "stream": "stdout",
       "text": [
        "346\n",
        "-300\n",
        "0\n",
        "7429"
       ]
      }
     ],
     "prompt_number": 49
    },
    {
     "cell_type": "markdown",
     "metadata": {},
     "source": [
      "c) Notice that the division of 23 by 323 results in \"0\". Convert both numbers into floating point variables and repeat the division"
     ]
    },
    {
     "cell_type": "code",
     "collapsed": false,
     "input": [
      "a = 23.\n",
      "b = float(b)\n",
      "print a / b"
     ],
     "language": "python",
     "metadata": {},
     "outputs": [
      {
       "output_type": "stream",
       "stream": "stdout",
       "text": [
        "0.0712074303406"
       ]
      }
     ],
     "prompt_number": 50
    },
    {
     "cell_type": "markdown",
     "metadata": {},
     "source": [
      "## Problem 5\n",
      "\n",
      "The **sequences** variable contains a dictionary with taxon name as keys, and their DNA sequence of the Cytb gene as values.\n",
      "\n",
      "a) Determine the number of taxa contained in the dictionary"
     ]
    },
    {
     "cell_type": "code",
     "collapsed": false,
     "input": [
      "print len(sequences)"
     ],
     "language": "python",
     "metadata": {},
     "outputs": [
      {
       "output_type": "stream",
       "stream": "stdout",
       "text": [
        "37"
       ]
      }
     ],
     "prompt_number": 53
    },
    {
     "cell_type": "markdown",
     "metadata": {},
     "source": [
      "b) Print both the taxon name and sequence of \"Mo10\", \"Ib16\" and \"Outgroup\" dictionary items."
     ]
    },
    {
     "cell_type": "code",
     "collapsed": false,
     "input": [
      "print \"Mo10\" + \" \" + sequences[\"Mo10\"]\n",
      "print \"Ib16\" + \" \" + sequences[\"Ib16\"]\n",
      "print \"Outgroup\" + \" \" + sequences[\"Outgroup\"]"
     ],
     "language": "python",
     "metadata": {},
     "outputs": [
      {
       "output_type": "stream",
       "stream": "stdout",
       "text": [
        "Mo10 GGACTGTGCCTAATTACTCAAATTGTTACAGGGTTATTTTTAGCAATACACTACAATGCAGATATTAACTCCGCATTCTCATCAGTAGCACACATTCACCGTGATGTCCAACATGGCTGACTTATCCGAAATATCCATGCTAACGGCGCATCACTATTCTTTATTTGCATTTATATGCACATCGGACGGGGCCTATACTATGGATCCTACTTATTTACTGAAACATGGAACATTGGAGTACTACTTCTCCTCTTAGTAATAGCCACAGCCTTCATAGGTTATGTCCTCCCATGAGGACAAATATCGTTTTGAGGTGCCACCGTCATTACTAACCTTTTATCTGCCATCCCATACATTGGAAACACCCTAGTTGAGTGAGTTTGAGGTGGATTCGCAATTGATAACGCAACACTAACTCGATTCTTCACGCTACATTTCCTCCTACCCTTTCTGATCTTAGGAGCATCATTAATTCACCTAATATTTCTACACGAAACAGGATCAAACAACCCTACAGGACTAAACTCAAACTCAGATAAAATCCCATTCCACCCATACTACTCATATAAAGACGCCCTTGGAGCCCTATTATTCATAACCCTACTCTTGTACCTATCACTATTCTCTCCATTACTCCTAGGAGACCCAGAAAACTTTA\n",
        "Ib16 GGATTATGCCTAATTACTCAAATTGTTACAGGATTATTTTTAGCAATACACTACAATGCAGATATTAACTCCGCATTCTCATCAGTAGCACACATTCACCGCGATGTCCAATACGGCTGACTTATCCGAAATATTCATGCTAACGGCGCATCACTATTCTTCATTTGCATCTATATGCATATCGGACGGGGCCTATACTATGGATCCTACTTATTTACTGAAACATGAAACATTGGAGTACTACTTCTCCTCTTAGTAATAGCCACAGCCTTCATAGGTTATGTCCTTCCATGAGGACAAATATCATTCTGAGGGGCCACCGTCATTACTAACCTTTTATCTGCCATCCCATACATTGGAAACACCTTGGTTGAGTGAGTCTGAGGTGGATTCGCAATTGATAACGCAACACTAACTCGATTCTTCACACTACATTTCCTCCTACCCTTTTTAATTTTAGGGACATCACTAATACACCTAATATTTTTACACGAAACAGGGTCAAACAACCCAACAGGGCTAAACTCAAACTCAGATAAAATCCCGTTCCACCCATACTACTCATATAAAGACGCCCTTGGAGCCCTATTATTTATAACCCTACTCTTATACCTCTCACTATTTTCCCCATTGCTCCTAGGAGACCCAGAAAACTTCA\n",
        "Outgroup GGCCTCTGTTTAATTATTCAAACCGTTACAGGCCTTTTTCTAGCCATACACTACACCCCAGACATCTCTTCAGCATTTTCATCCGTCGCTCACATTCACCGAGACGTTCAATACGGGTGACTTATCCGCAATCTGCATGCCAACGGTGCTTCTATGTTCTTTGTCTGTATTTATCTACACATCGGACGAGGTTTATATTATGGCTCTTATATATTTATTGAGACCTGAAATATTGGAGTTATTCTCCTACTTCTCGTTATAGCTACAGCCTTTATAGGATACGTATTACCCTGAGGCCAAATATCATTCTGAGGGGCCACTGTTATTACCAACCTTCTCTCCGCAATCCCCTACATTGGTACCTCCCTTGTTGAGTGAATCTGAGGCGGATTTGCAGTAGATAACGCAACCCTAACTCGATTCTTTACCTTCCATTTTCTTTTACCCTTCCTCATTATAGGTACCTCTATAGTCCACCTACTCTTTCTACACGAAACAGGATCAAACAACCCAACAGGTTTGAACTCCAACACTGATAAAATCCCCTTCCACCCATACTACTCTTATAAAGATCTATTAGGTGTTATAATAATCATTACCCTTCTCCTATTTCTCGCCCTTTTTGCACCCAACCTCCTAGGCGACCCCGAAAACTTCT\n"
       ]
      }
     ],
     "prompt_number": 5
    }
   ],
   "metadata": {}
  }
 ]
}