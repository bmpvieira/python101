{
 "metadata": {
  "name": ""
 },
 "nbformat": 3,
 "nbformat_minor": 0,
 "worksheets": [
  {
   "cells": [
    {
     "cell_type": "markdown",
     "metadata": {},
     "source": [
      "## Day 2: Data structures\n",
      "\n",
      "Let's start by importing the **data** module"
     ]
    },
    {
     "cell_type": "code",
     "collapsed": true,
     "input": [
      "from data import DNA_Sequence,human_sequence,Species_list,sequences"
     ],
     "language": "python",
     "metadata": {},
     "outputs": [],
     "prompt_number": 2
    },
    {
     "cell_type": "markdown",
     "metadata": {},
     "source": [
      "### Problem 1\n",
      "\n",
      "The *DNA_Sequence* variable imported from the **data** module contains DNA sequence\n",
      "\n",
      "a) Print the **DNA_Sequence** variable"
     ]
    },
    {
     "cell_type": "code",
     "collapsed": false,
     "input": [
      "print(DNA_Sequence)"
     ],
     "language": "python",
     "metadata": {},
     "outputs": [
      {
       "output_type": "stream",
       "stream": "stdout",
       "text": [
        "GTAGCTGATGCTAGCTGTGATTATTCGTACGATTTGTCGTAGTGTCGTATGCGTAGCTGATGCGTAT\n"
       ]
      }
     ],
     "prompt_number": 3
    },
    {
     "cell_type": "markdown",
     "metadata": {},
     "source": [
      "b) Print the length of the **DNA_Sequence** variable"
     ]
    },
    {
     "cell_type": "code",
     "collapsed": false,
     "input": [],
     "language": "python",
     "metadata": {},
     "outputs": [],
     "prompt_number": 5
    },
    {
     "cell_type": "markdown",
     "metadata": {},
     "source": [
      "c) Count (with a method) the number of \"A\", \"C\", \"T\", and \"G\" nucleotides in the **DNA_Sequence** variable and assign each one to a different variable (e.g, assign the number of \"A\"s to a variable named a_count, etc) and then print each variable"
     ]
    },
    {
     "cell_type": "code",
     "collapsed": false,
     "input": [],
     "language": "python",
     "metadata": {},
     "outputs": [],
     "prompt_number": 10
    },
    {
     "cell_type": "markdown",
     "metadata": {},
     "source": [
      "d) Transcribe the **DNA_Sequence** and assign it to a new variable. Print the new variable.\n",
      "\n",
      "(Tip: replace the \"T\" nucleotides for \"U\" nucleotides)"
     ]
    },
    {
     "cell_type": "code",
     "collapsed": false,
     "input": [],
     "language": "python",
     "metadata": {},
     "outputs": [],
     "prompt_number": 15
    },
    {
     "cell_type": "markdown",
     "metadata": {},
     "source": [
      "e) Split the **DNA_Sequence** at each \"GAT\" motif and store the resulting list in a new variable. Determine the number of the resulting fragments. Print the result.\n",
      "\n",
      "(Tip: Determine the length of the resulting list of fragments to get the number of fragments)"
     ]
    },
    {
     "cell_type": "code",
     "collapsed": false,
     "input": [],
     "language": "python",
     "metadata": {},
     "outputs": [],
     "prompt_number": 21
    },
    {
     "cell_type": "markdown",
     "metadata": {},
     "source": [
      "f) Merge the first and last fragments of the list resulted from e) and store it in a new variable. Print the new variable."
     ]
    },
    {
     "cell_type": "code",
     "collapsed": false,
     "input": [],
     "language": "python",
     "metadata": {},
     "outputs": [],
     "prompt_number": 25
    },
    {
     "cell_type": "markdown",
     "metadata": {},
     "source": [
      "## Problem 2\n",
      "\n",
      "The **human_sequence** variable imported from the **data** module contains a human DNA sequence\n",
      "\n",
      "a) Print the **human_sequence** variable"
     ]
    },
    {
     "cell_type": "code",
     "collapsed": false,
     "input": [],
     "language": "python",
     "metadata": {},
     "outputs": [],
     "prompt_number": 26
    },
    {
     "cell_type": "markdown",
     "metadata": {},
     "source": [
      "b) Notice that both ends of the sequence contain gaps \"-\". Eliminate the gaps from boths ends of the sequence, and assign the resulting sequence to a new variable. Print the result."
     ]
    },
    {
     "cell_type": "code",
     "collapsed": false,
     "input": [],
     "language": "python",
     "metadata": {},
     "outputs": [],
     "prompt_number": 28
    },
    {
     "cell_type": "markdown",
     "metadata": {},
     "source": [
      "c) Change the capitalization of the **human_sequence** variable and print"
     ]
    },
    {
     "cell_type": "code",
     "collapsed": false,
     "input": [],
     "language": "python",
     "metadata": {},
     "outputs": [],
     "prompt_number": 29
    },
    {
     "cell_type": "markdown",
     "metadata": {},
     "source": [
      "## Problem 3\n",
      "\n",
      "The **Species_list** variable imported from the **data** module contains a list with species names.\n",
      "\n",
      "a) Determine the number of species in **Species_list** and print it."
     ]
    },
    {
     "cell_type": "code",
     "collapsed": false,
     "input": [],
     "language": "python",
     "metadata": {},
     "outputs": [],
     "prompt_number": 30
    },
    {
     "cell_type": "markdown",
     "metadata": {},
     "source": [
      "b) Sort the **Species_list** variable by alphabetical order and print."
     ]
    },
    {
     "cell_type": "code",
     "collapsed": false,
     "input": [],
     "language": "python",
     "metadata": {},
     "outputs": [],
     "prompt_number": 41
    },
    {
     "cell_type": "markdown",
     "metadata": {},
     "source": [
      "c) Change the \"C_albicans\" entry by a new species: \"D_melanogaster\". Print Species_list."
     ]
    },
    {
     "cell_type": "code",
     "collapsed": false,
     "input": [],
     "language": "python",
     "metadata": {},
     "outputs": [],
     "prompt_number": 42
    },
    {
     "cell_type": "markdown",
     "metadata": {},
     "source": [
      "d) Store the first 3 species of the **Species_list** list in a new variable: \"First_species\" and print."
     ]
    },
    {
     "cell_type": "code",
     "collapsed": false,
     "input": [],
     "language": "python",
     "metadata": {},
     "outputs": [],
     "prompt_number": 44
    },
    {
     "cell_type": "markdown",
     "metadata": {},
     "source": [
      "e) Create a new empty list and add the following species as entries: \"C_kahawae\",\"Q_suber\",\"L_lepida\""
     ]
    },
    {
     "cell_type": "code",
     "collapsed": false,
     "input": [],
     "language": "python",
     "metadata": {},
     "outputs": [],
     "prompt_number": 46
    },
    {
     "cell_type": "markdown",
     "metadata": {},
     "source": [
      "## Problem 4\n",
      "\n",
      "a) Create a new string variable composed of 100 \"N\" characters"
     ]
    },
    {
     "cell_type": "code",
     "collapsed": false,
     "input": [],
     "language": "python",
     "metadata": {},
     "outputs": [],
     "prompt_number": 48
    },
    {
     "cell_type": "markdown",
     "metadata": {},
     "source": [
      "b) Create two new number variables with the numbers 23 and 323. Determine their sum, difference, division and multiplication"
     ]
    },
    {
     "cell_type": "code",
     "collapsed": false,
     "input": [],
     "language": "python",
     "metadata": {},
     "outputs": [],
     "prompt_number": 49
    },
    {
     "cell_type": "markdown",
     "metadata": {},
     "source": [
      "c) Notice that the division of 23 by 323 results in \"0\". Convert both numbers into floating point variables and repeat the division"
     ]
    },
    {
     "cell_type": "code",
     "collapsed": false,
     "input": [],
     "language": "python",
     "metadata": {},
     "outputs": [],
     "prompt_number": 50
    },
    {
     "cell_type": "markdown",
     "metadata": {},
     "source": [
      "## Problem 5\n",
      "\n",
      "The **sequences** variable contains a dictionary with taxon name as keys, and their DNA sequence of the Cytb gene as values.\n",
      "\n",
      "a) Determine the number of taxa contained in the dictionary"
     ]
    },
    {
     "cell_type": "code",
     "collapsed": false,
     "input": [],
     "language": "python",
     "metadata": {},
     "outputs": [],
     "prompt_number": 53
    },
    {
     "cell_type": "markdown",
     "metadata": {},
     "source": [
      "b) Print both the taxon name and sequence of the 3\u00ba, 5\u00ba and 7\u00ba dictionary item. "
     ]
    },
    {
     "cell_type": "code",
     "collapsed": false,
     "input": [],
     "language": "python",
     "metadata": {},
     "outputs": [],
     "prompt_number": 61
    }
   ],
   "metadata": {}
  }
 ]
}